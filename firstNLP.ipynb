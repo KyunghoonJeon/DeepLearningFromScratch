{
  "nbformat": 4,
  "nbformat_minor": 0,
  "metadata": {
    "colab": {
      "private_outputs": true,
      "provenance": [],
      "mount_file_id": "1xqUuDGjJBgWH0e19Xgkd2KfZndZVQaCM",
      "authorship_tag": "ABX9TyMAtL/2T8I3mvLKEL4sBT1P",
      "include_colab_link": true
    },
    "kernelspec": {
      "name": "python3",
      "display_name": "Python 3"
    },
    "language_info": {
      "name": "python"
    }
  },
  "cells": [
    {
      "cell_type": "markdown",
      "metadata": {
        "id": "view-in-github",
        "colab_type": "text"
      },
      "source": [
        "<a href=\"https://colab.research.google.com/github/KyunghoonJeon/DeepLearningFromScratch/blob/main/firstNLP.ipynb\" target=\"_parent\"><img src=\"https://colab.research.google.com/assets/colab-badge.svg\" alt=\"Open In Colab\"/></a>"
      ]
    },
    {
      "cell_type": "code",
      "execution_count": null,
      "metadata": {
        "id": "RNHHWKMEVqoS"
      },
      "outputs": [],
      "source": [
        "text=\"You say goodbye and I say hello.\""
      ]
    },
    {
      "cell_type": "code",
      "source": [
        "text=text.lower()\n",
        "text=text.replace('.',' .')\n",
        "text"
      ],
      "metadata": {
        "id": "RI_eCa9bvvQy"
      },
      "execution_count": null,
      "outputs": []
    },
    {
      "cell_type": "code",
      "source": [
        "words=text.split(' ')\n",
        "words"
      ],
      "metadata": {
        "id": "KvqgURONv1tT"
      },
      "execution_count": null,
      "outputs": []
    },
    {
      "cell_type": "code",
      "source": [
        "word_to_id={}\n",
        "id_to_word={}"
      ],
      "metadata": {
        "id": "L8UfdjYVv7vv"
      },
      "execution_count": null,
      "outputs": []
    },
    {
      "cell_type": "code",
      "source": [
        "for word in words:\n",
        "    if word not in word_to_id:\n",
        "        new_id=len(word_to_id)\n",
        "        word_to_id[word]=new_id\n",
        "        id_to_word[new_id]=word"
      ],
      "metadata": {
        "id": "ib-7UktozhMX"
      },
      "execution_count": null,
      "outputs": []
    },
    {
      "cell_type": "code",
      "source": [
        "id_to_word"
      ],
      "metadata": {
        "id": "CVWnuP3-zx1Y"
      },
      "execution_count": null,
      "outputs": []
    },
    {
      "cell_type": "code",
      "source": [
        "word_to_id"
      ],
      "metadata": {
        "id": "y6RE8mgLz1JG"
      },
      "execution_count": null,
      "outputs": []
    },
    {
      "cell_type": "code",
      "source": [
        "id_to_word[1]"
      ],
      "metadata": {
        "id": "5gaM8vTcz5Dy"
      },
      "execution_count": null,
      "outputs": []
    },
    {
      "cell_type": "code",
      "source": [
        "word_to_id['hello']"
      ],
      "metadata": {
        "id": "kCucFgLCz9wu"
      },
      "execution_count": null,
      "outputs": []
    },
    {
      "cell_type": "code",
      "source": [
        "import numpy as np"
      ],
      "metadata": {
        "id": "7iMgEHcjz_yN"
      },
      "execution_count": null,
      "outputs": []
    },
    {
      "cell_type": "code",
      "source": [
        "corpus=[word_to_id[w] for w in words]\n",
        "corpus=np.array(corpus)\n",
        "corpus"
      ],
      "metadata": {
        "id": "H3jswyt40IEK"
      },
      "execution_count": null,
      "outputs": []
    },
    {
      "cell_type": "code",
      "source": [
        "def preprocess(text):\n",
        "    text=text.lower()\n",
        "    text=text.replace('.',' .')\n",
        "    words=text.split(' ')\n",
        "    word_to_id={}\n",
        "    id_to_word={}\n",
        "    for word in words:\n",
        "        if word not in word_to_id:\n",
        "            new_id=len(word_to_id)\n",
        "            word_to_id[word]=new_id\n",
        "            id_to_word[new_id]=word\n",
        "    corpus=np.array([word_to_id[w] for w in words])\n",
        "\n",
        "    return corpus, word_to_id, id_to_word"
      ],
      "metadata": {
        "id": "4mlI84NY0PgQ"
      },
      "execution_count": null,
      "outputs": []
    },
    {
      "cell_type": "code",
      "source": [
        "import sys\n",
        "sys.path.append('..')"
      ],
      "metadata": {
        "id": "Y4P7NH8X2drg"
      },
      "execution_count": null,
      "outputs": []
    },
    {
      "cell_type": "code",
      "source": [
        "text='You say goodbye and I say hello.'"
      ],
      "metadata": {
        "id": "N_pvi6hF2iBl"
      },
      "execution_count": null,
      "outputs": []
    },
    {
      "cell_type": "code",
      "source": [
        "corpus, word_to_id, id_to_word=preprocess(text)"
      ],
      "metadata": {
        "id": "5BBi7LGX2k10"
      },
      "execution_count": null,
      "outputs": []
    },
    {
      "cell_type": "code",
      "source": [
        "print(corpus)"
      ],
      "metadata": {
        "id": "YK9v4DnW2oom"
      },
      "execution_count": null,
      "outputs": []
    },
    {
      "cell_type": "code",
      "source": [
        "print(id_to_word)"
      ],
      "metadata": {
        "id": "xx8BTj9z2p4P"
      },
      "execution_count": null,
      "outputs": []
    },
    {
      "cell_type": "code",
      "source": [
        "def create_co_matrix(corpus, vocab_size, window_size=1):\n",
        "    corpus_size=len(corpus)\n",
        "    co_matrix=np.zeros((vocab_size, vocab_size), dtype=np.int32)\n",
        "\n",
        "    for idx, word_id in enumerate(corpus):\n",
        "        for i in range(1,window_size + 1):\n",
        "            left_idx=idx-i\n",
        "            right_idx=idx+i\n",
        "\n",
        "            if left_idx>=0:\n",
        "                left_word_id=corpus[left_idx]\n",
        "                co_matrix[word_id, left_word_id]+=1\n",
        "            \n",
        "            if right_idx<corpus_size:\n",
        "                right_word_id=corpus[right_idx]\n",
        "                co_matrix[word_id, right_word_id]+=1\n",
        "    \n",
        "    return co_matrix"
      ],
      "metadata": {
        "id": "y8ysrSXy2rdm"
      },
      "execution_count": null,
      "outputs": []
    },
    {
      "cell_type": "code",
      "source": [
        "def cos_similarity(x,y,eps=1e-8):\n",
        "    nx=x/np.sqrt(np.sum(x**2))+eps\n",
        "    ny=y/np.sqrt(np.sum(y**2))+eps\n",
        "    return np.dot(nx,ny)"
      ],
      "metadata": {
        "id": "iZUb8kvXUUti"
      },
      "execution_count": null,
      "outputs": []
    },
    {
      "cell_type": "code",
      "source": [
        "text='You say goodbye and I say hello.'\n",
        "corpus,word_to_id, id_to_word=preprocess(text)\n",
        "vocab_size=len(word_to_id)\n",
        "C=create_co_matrix(corpus, vocab_size)"
      ],
      "metadata": {
        "id": "qXoRkS-0Ur7H"
      },
      "execution_count": null,
      "outputs": []
    },
    {
      "cell_type": "code",
      "source": [
        "c0=C[word_to_id['you']]\n",
        "c1=C[word_to_id['i']]\n",
        "print(cos_similarity(c0,c1))"
      ],
      "metadata": {
        "id": "LvCOhTM_W-gY"
      },
      "execution_count": null,
      "outputs": []
    },
    {
      "cell_type": "markdown",
      "source": [
        "여기서는 유사성이 크다고 얘기할 수 있다."
      ],
      "metadata": {
        "id": "B8OpaMI3XQE7"
      }
    },
    {
      "cell_type": "markdown",
      "source": [
        "유사 단어의 랭킹 표시"
      ],
      "metadata": {
        "id": "ci3DobU3YNy_"
      }
    },
    {
      "cell_type": "code",
      "source": [
        "def most_similar(query, word_to_id, id_to_word, word_matrix, top=5):\n",
        "    #검색어를 꺼낸다\n",
        "    if query not in word_to_id:\n",
        "        print('%s 을(를) 찾을 수 없습니다.' % query)\n",
        "        return \n",
        "    \n",
        "    print('\\n[query]'+query)\n",
        "    query_id=word_to_id[query]\n",
        "    query_vec=word_matrix[query_id]\n",
        "\n",
        "    #코사인 유사도 계산\n",
        "    vocab_size=len(id_to_word)\n",
        "    similarity=np.zeros(vocab_size)\n",
        "    for i in range(vocab_size):\n",
        "        similarity[i]=cos_similarity(word_matrix[i], query_vec)\n",
        "    \n",
        "    #코사인 유사도를 기준으로 내림차순으로 출력\n",
        "    count=0\n",
        "    for i in (-1*similarity).argsort():\n",
        "        if id_to_word[i]==query:\n",
        "            continue\n",
        "        print(' %s: %s' %(id_to_word[i], similarity[i]))\n",
        "\n",
        "        count+=1\n",
        "        if count>=top:\n",
        "            return"
      ],
      "metadata": {
        "id": "QoA-Sic6XNhq"
      },
      "execution_count": null,
      "outputs": []
    },
    {
      "cell_type": "markdown",
      "source": [
        "argsort ==> 배열 인덱스의 정렬을 바꾸는 매서드(배열의 원소를 오름차순으로 정렬한 뒤에 반환은 배열의 인덱스)"
      ],
      "metadata": {
        "id": "BLwBhAoPaUnE"
      }
    },
    {
      "cell_type": "code",
      "source": [
        "x=np.array([100,-20,2])\n",
        "x.argsort()"
      ],
      "metadata": {
        "id": "t2nh_glOZnqk"
      },
      "execution_count": null,
      "outputs": []
    },
    {
      "cell_type": "code",
      "source": [
        "(-x).argsort()"
      ],
      "metadata": {
        "id": "LZu_ShSIcXaq"
      },
      "execution_count": null,
      "outputs": []
    },
    {
      "cell_type": "code",
      "source": [
        "text='You say goodbye and I say hello.'\n",
        "corpus,word_to_id, id_to_word=preprocess(text)\n",
        "vocab_size=len(word_to_id)\n",
        "C=create_co_matrix(corpus, vocab_size)"
      ],
      "metadata": {
        "id": "GXVVqlCnc548"
      },
      "execution_count": null,
      "outputs": []
    },
    {
      "cell_type": "code",
      "source": [
        "most_similar('you', word_to_id, id_to_word, C, top=5)"
      ],
      "metadata": {
        "id": "1RRMjnVFdKNZ"
      },
      "execution_count": null,
      "outputs": []
    },
    {
      "cell_type": "markdown",
      "source": [
        "말뭉치가 너무 작아서 원하는 결과가 나오지 못한다. "
      ],
      "metadata": {
        "id": "KNhwGh_Jddr6"
      }
    },
    {
      "cell_type": "code",
      "source": [
        "def ppmi(C, verbose=False, eps=1e-8):\n",
        "    M=np.zeros_like(C,dtype=np.float32)\n",
        "    N=np.sum(C)\n",
        "    S=np.sum(C,axis=0)\n",
        "    total=C.shape[0]*C.shape[1]\n",
        "    cnt=0\n",
        "\n",
        "    for i in range(C.shape[0]):\n",
        "        for j in range(C.shape[1]):\n",
        "            pmi=np.log2(C[i,j]*N/(S[j]*S[i])+eps)\n",
        "            M[i,j]=max(0,pmi)\n",
        "\n",
        "            if verbose:\n",
        "                cnt+=1\n",
        "                if cnt % (total//100+1)==0:\n",
        "                    print('%.1f%% 완료' %(100*cnt/total))\n",
        "    \n",
        "    return M"
      ],
      "metadata": {
        "id": "cCStrAOOdO-0"
      },
      "execution_count": null,
      "outputs": []
    },
    {
      "cell_type": "code",
      "source": [
        "text='You say goodbye and I say hello.'\n",
        "corpus,word_to_id, id_to_word=preprocess(text)\n",
        "vocab_size=len(word_to_id)\n",
        "C=create_co_matrix(corpus, vocab_size)\n",
        "W=ppmi(C)"
      ],
      "metadata": {
        "id": "4ya7M5VbhlW6"
      },
      "execution_count": null,
      "outputs": []
    },
    {
      "cell_type": "code",
      "source": [
        "np.set_printoptions(precision=3)\n",
        "print('동시발생 행렬')\n",
        "print(C)\n",
        "print('-'*50)\n",
        "print('PPMI')\n",
        "print(W)"
      ],
      "metadata": {
        "id": "_QzV-Rxzhqt5"
      },
      "execution_count": null,
      "outputs": []
    },
    {
      "cell_type": "markdown",
      "source": [
        "말뭉치의 어휘 수가 증가함에 따라 각 단어 벡터의 차원 수도 증가한다..."
      ],
      "metadata": {
        "id": "ZywfoZiRiE-q"
      }
    },
    {
      "cell_type": "code",
      "source": [
        "text='You say goodbye and I say hello.'\n",
        "corpus,word_to_id, id_to_word=preprocess(text)\n",
        "vocab_size=len(word_to_id)\n",
        "C=create_co_matrix(corpus, vocab_size)\n",
        "W=ppmi(C)"
      ],
      "metadata": {
        "id": "NsdTaB3ihzmX"
      },
      "execution_count": null,
      "outputs": []
    },
    {
      "cell_type": "code",
      "source": [
        "U,S,V=np.linalg.svd(W)"
      ],
      "metadata": {
        "id": "_XcDmL58H_zj"
      },
      "execution_count": null,
      "outputs": []
    },
    {
      "cell_type": "code",
      "source": [
        "print(C[0])"
      ],
      "metadata": {
        "id": "8XRjewnYID6I"
      },
      "execution_count": null,
      "outputs": []
    },
    {
      "cell_type": "code",
      "source": [
        "print(W[0])"
      ],
      "metadata": {
        "id": "hIHCWKxRIFm8"
      },
      "execution_count": null,
      "outputs": []
    },
    {
      "cell_type": "code",
      "source": [
        "print(U[0])"
      ],
      "metadata": {
        "id": "6sodJvv8IG_l"
      },
      "execution_count": null,
      "outputs": []
    },
    {
      "cell_type": "code",
      "source": [
        "print(U[0,:2])"
      ],
      "metadata": {
        "id": "tFDnyuMtIJLE"
      },
      "execution_count": null,
      "outputs": []
    },
    {
      "cell_type": "code",
      "source": [
        "import matplotlib.pyplot as plt"
      ],
      "metadata": {
        "id": "t0PTaLmrIjbn"
      },
      "execution_count": null,
      "outputs": []
    },
    {
      "cell_type": "code",
      "source": [
        "for word, word_id in word_to_id.items():\n",
        "    plt.annotate(word,(U[word_id,0], U[word_id,1]))\n",
        "\n",
        "plt.scatter(U[:,0], U[:,1], alpha=0.5)\n",
        "plt.show()"
      ],
      "metadata": {
        "id": "2JFuloybIQcS"
      },
      "execution_count": null,
      "outputs": []
    },
    {
      "cell_type": "code",
      "source": [
        "from google.colab import drive\n",
        "drive.mount('/content/drive') "
      ],
      "metadata": {
        "id": "2OybPq2TIy3M"
      },
      "execution_count": null,
      "outputs": []
    },
    {
      "cell_type": "code",
      "source": [
        "from MyDrive import ptb"
      ],
      "metadata": {
        "id": "kJrXOVAAKi5I"
      },
      "execution_count": null,
      "outputs": []
    }
  ]
}