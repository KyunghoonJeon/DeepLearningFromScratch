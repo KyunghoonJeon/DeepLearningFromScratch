{
  "nbformat": 4,
  "nbformat_minor": 0,
  "metadata": {
    "colab": {
      "provenance": [],
      "authorship_tag": "ABX9TyMdm6VRJ7gZTjCHpoye1HXu",
      "include_colab_link": true
    },
    "kernelspec": {
      "name": "python3",
      "display_name": "Python 3"
    },
    "language_info": {
      "name": "python"
    },
    "accelerator": "GPU",
    "gpuClass": "standard"
  },
  "cells": [
    {
      "cell_type": "markdown",
      "metadata": {
        "id": "view-in-github",
        "colab_type": "text"
      },
      "source": [
        "<a href=\"https://colab.research.google.com/github/KyunghoonJeon/DeepLearningFromScratch/blob/main/dlfs2_1.ipynb\" target=\"_parent\"><img src=\"https://colab.research.google.com/assets/colab-badge.svg\" alt=\"Open In Colab\"/></a>"
      ]
    },
    {
      "cell_type": "code",
      "execution_count": 1,
      "metadata": {
        "colab": {
          "base_uri": "https://localhost:8080/"
        },
        "id": "hGFcRHJSxGeu",
        "outputId": "c6c27705-5ddb-4e81-e0fa-bb866b7455d8"
      },
      "outputs": [
        {
          "output_type": "execute_result",
          "data": {
            "text/plain": [
              "numpy.ndarray"
            ]
          },
          "metadata": {},
          "execution_count": 1
        }
      ],
      "source": [
        "import numpy as np\n",
        "\n",
        "x = np.array([1, 2, 3])\n",
        "x.__class__"
      ]
    },
    {
      "cell_type": "code",
      "source": [
        "x.shape"
      ],
      "metadata": {
        "colab": {
          "base_uri": "https://localhost:8080/"
        },
        "id": "nBVe-zrDxXY_",
        "outputId": "f9058551-8fb1-4c89-a77f-8499da513373"
      },
      "execution_count": 2,
      "outputs": [
        {
          "output_type": "execute_result",
          "data": {
            "text/plain": [
              "(3,)"
            ]
          },
          "metadata": {},
          "execution_count": 2
        }
      ]
    },
    {
      "cell_type": "code",
      "source": [
        "x.ndim"
      ],
      "metadata": {
        "colab": {
          "base_uri": "https://localhost:8080/"
        },
        "id": "MqVF_omRxnRf",
        "outputId": "fb7f96b7-00af-44b6-de2b-0d42548c275a"
      },
      "execution_count": 3,
      "outputs": [
        {
          "output_type": "execute_result",
          "data": {
            "text/plain": [
              "1"
            ]
          },
          "metadata": {},
          "execution_count": 3
        }
      ]
    },
    {
      "cell_type": "code",
      "source": [
        "W = np.array([[1, 2, 3], [4, 5, 6]])\n",
        "W.shape"
      ],
      "metadata": {
        "colab": {
          "base_uri": "https://localhost:8080/"
        },
        "id": "FTDm-rQIxoM1",
        "outputId": "04bbac5d-b4a5-489f-f433-982d85a7798a"
      },
      "execution_count": 4,
      "outputs": [
        {
          "output_type": "execute_result",
          "data": {
            "text/plain": [
              "(2, 3)"
            ]
          },
          "metadata": {},
          "execution_count": 4
        }
      ]
    },
    {
      "cell_type": "code",
      "source": [
        "W.ndim"
      ],
      "metadata": {
        "colab": {
          "base_uri": "https://localhost:8080/"
        },
        "id": "GhFCGLGWxtCD",
        "outputId": "b591d027-32da-406d-8f85-8fc646c52f55"
      },
      "execution_count": 5,
      "outputs": [
        {
          "output_type": "execute_result",
          "data": {
            "text/plain": [
              "2"
            ]
          },
          "metadata": {},
          "execution_count": 5
        }
      ]
    },
    {
      "cell_type": "code",
      "source": [
        "X = np.array([[0, 1, 2], [3, 4, 5]])\n",
        "W + X"
      ],
      "metadata": {
        "colab": {
          "base_uri": "https://localhost:8080/"
        },
        "id": "wY8EKkZmxt1b",
        "outputId": "ed4706dc-184a-48f6-ea32-e10d187413c0"
      },
      "execution_count": 6,
      "outputs": [
        {
          "output_type": "execute_result",
          "data": {
            "text/plain": [
              "array([[ 1,  3,  5],\n",
              "       [ 7,  9, 11]])"
            ]
          },
          "metadata": {},
          "execution_count": 6
        }
      ]
    },
    {
      "cell_type": "code",
      "source": [
        "W*X"
      ],
      "metadata": {
        "colab": {
          "base_uri": "https://localhost:8080/"
        },
        "id": "QwfBjZZfzXvE",
        "outputId": "392afbd2-f04e-43dd-9432-b8eb6b60061e"
      },
      "execution_count": 7,
      "outputs": [
        {
          "output_type": "execute_result",
          "data": {
            "text/plain": [
              "array([[ 0,  2,  6],\n",
              "       [12, 20, 30]])"
            ]
          },
          "metadata": {},
          "execution_count": 7
        }
      ]
    },
    {
      "cell_type": "code",
      "source": [
        "A = np.array([[1, 2], [3, 4]])\n",
        "A*10"
      ],
      "metadata": {
        "colab": {
          "base_uri": "https://localhost:8080/"
        },
        "id": "ugNb1CR7zZkV",
        "outputId": "abdf714b-7298-425c-bbbf-38c31784bdd3"
      },
      "execution_count": 8,
      "outputs": [
        {
          "output_type": "execute_result",
          "data": {
            "text/plain": [
              "array([[10, 20],\n",
              "       [30, 40]])"
            ]
          },
          "metadata": {},
          "execution_count": 8
        }
      ]
    },
    {
      "cell_type": "code",
      "source": [
        "b = np.array([10, 20])"
      ],
      "metadata": {
        "id": "PW0t4ICpz-Sz"
      },
      "execution_count": 9,
      "outputs": []
    },
    {
      "cell_type": "code",
      "source": [
        "A*b"
      ],
      "metadata": {
        "colab": {
          "base_uri": "https://localhost:8080/"
        },
        "id": "5zr5Y54i0JP1",
        "outputId": "8141c610-e294-45f4-ce09-6ef61b22c211"
      },
      "execution_count": 10,
      "outputs": [
        {
          "output_type": "execute_result",
          "data": {
            "text/plain": [
              "array([[10, 40],\n",
              "       [30, 80]])"
            ]
          },
          "metadata": {},
          "execution_count": 10
        }
      ]
    },
    {
      "cell_type": "code",
      "source": [
        "a = np.array([1, 2, 3])\n",
        "b = np.array([4, 5, 6])"
      ],
      "metadata": {
        "id": "01xE_jFX0J_5"
      },
      "execution_count": 11,
      "outputs": []
    },
    {
      "cell_type": "code",
      "source": [
        "np.dot(a, b)"
      ],
      "metadata": {
        "colab": {
          "base_uri": "https://localhost:8080/"
        },
        "id": "o2eBrF8H1IOG",
        "outputId": "1c3f6945-2ae3-4b5a-f2df-a573c628f2ac"
      },
      "execution_count": 12,
      "outputs": [
        {
          "output_type": "execute_result",
          "data": {
            "text/plain": [
              "32"
            ]
          },
          "metadata": {},
          "execution_count": 12
        }
      ]
    },
    {
      "cell_type": "code",
      "source": [
        "A = np.array([[1, 2], [3, 4]])\n",
        "B = np.array([[5, 6], [7, 8]])"
      ],
      "metadata": {
        "id": "3s_ZWvZ-1Jpp"
      },
      "execution_count": 13,
      "outputs": []
    },
    {
      "cell_type": "code",
      "source": [
        "np.matmul(A, B)"
      ],
      "metadata": {
        "colab": {
          "base_uri": "https://localhost:8080/"
        },
        "id": "3jd4VDOa1Tr2",
        "outputId": "9cf0354f-4ec9-4922-8aae-0ef251a611fc"
      },
      "execution_count": 14,
      "outputs": [
        {
          "output_type": "execute_result",
          "data": {
            "text/plain": [
              "array([[19, 22],\n",
              "       [43, 50]])"
            ]
          },
          "metadata": {},
          "execution_count": 14
        }
      ]
    },
    {
      "cell_type": "code",
      "source": [
        "W1 = np.random.randn(2, 4)\n",
        "b1 = np.random.randn(4)\n",
        "x = np.random.randn(10, 2)\n",
        "h = np.matmul(x, W1) + b1"
      ],
      "metadata": {
        "id": "2FLGU1FE1bWI"
      },
      "execution_count": 15,
      "outputs": []
    },
    {
      "cell_type": "code",
      "source": [
        "def sigmoid(x):\n",
        "    return 1 / (1 + np.exp(-x))"
      ],
      "metadata": {
        "id": "bUvRwaD27vBx"
      },
      "execution_count": 16,
      "outputs": []
    },
    {
      "cell_type": "code",
      "source": [
        "a = sigmoid(h)"
      ],
      "metadata": {
        "id": "Wu9LXC4j7_E3"
      },
      "execution_count": 17,
      "outputs": []
    },
    {
      "cell_type": "code",
      "source": [
        "W2 = np.random.randn(4, 3)\n",
        "b2 = np.random.randn(3)\n",
        "\n",
        "s = np.matmul(a, W2) + b2"
      ],
      "metadata": {
        "id": "m0FTzbqh8V22"
      },
      "execution_count": 18,
      "outputs": []
    },
    {
      "cell_type": "code",
      "source": [
        "import numpy as np\n",
        "\n",
        "class Sigmoid:\n",
        "    def __init__(self):\n",
        "        self.params = []\n",
        "    \n",
        "    def forward(self, x):\n",
        "        return 1 / (1 + np.exp(-x))"
      ],
      "metadata": {
        "id": "DOkS0dD88_2b"
      },
      "execution_count": 19,
      "outputs": []
    },
    {
      "cell_type": "code",
      "source": [
        "class Affine:\n",
        "    def __init__(self, W, b):\n",
        "        self.params = [W, b]\n",
        "    \n",
        "    def forward(self, x):\n",
        "        W, b = self.params\n",
        "        out = np.matmul(x, W) + b\n",
        "        return out"
      ],
      "metadata": {
        "id": "TZiPkGjtlccr"
      },
      "execution_count": 20,
      "outputs": []
    },
    {
      "cell_type": "code",
      "source": [
        "class TwoLayerNet:\n",
        "    def __init__(self, input_size, hidden_size, output_size):\n",
        "        I, H, O = input_size, hidden_size, output_size\n",
        "\n",
        "        W1 = np.random.randn(I, H)\n",
        "        b1 = np.random.randn(H)\n",
        "        W2 = np.random.randn(H, O)\n",
        "        b2 = np.random.randn(O)\n",
        "\n",
        "        # 계층 생성\n",
        "        self.layers = [\n",
        "            Affine(W1, b1),\n",
        "            Sigmoid(),\n",
        "            Affine(W2, b2)\n",
        "        ]\n",
        "\n",
        "        self.params = []\n",
        "        for layer in self.layers:\n",
        "            self.params += layer.params\n",
        "        \n",
        "    def predict(self, x):\n",
        "        for layer in self.layers:\n",
        "            x = layer.forward(x)\n",
        "        return x"
      ],
      "metadata": {
        "id": "lDHBfkuAnJZX"
      },
      "execution_count": 21,
      "outputs": []
    },
    {
      "cell_type": "code",
      "source": [
        "a = ['A', 'B']\n",
        "a += ['C', 'D']\n",
        "a"
      ],
      "metadata": {
        "colab": {
          "base_uri": "https://localhost:8080/"
        },
        "id": "U8gIjdvi0Vxa",
        "outputId": "b6723720-1379-4ab6-8c3c-30869525a7ff"
      },
      "execution_count": 22,
      "outputs": [
        {
          "output_type": "execute_result",
          "data": {
            "text/plain": [
              "['A', 'B', 'C', 'D']"
            ]
          },
          "metadata": {},
          "execution_count": 22
        }
      ]
    },
    {
      "cell_type": "code",
      "source": [
        "x = np.random.randn(10, 2)\n",
        "model = TwoLayerNet(2, 4, 3)\n",
        "s = model.predict(x)"
      ],
      "metadata": {
        "id": "DhGZWwB81q5p"
      },
      "execution_count": 23,
      "outputs": []
    },
    {
      "cell_type": "code",
      "source": [
        "s"
      ],
      "metadata": {
        "colab": {
          "base_uri": "https://localhost:8080/"
        },
        "id": "5ul1hWbO5dY7",
        "outputId": "d0745aea-6054-4940-ceed-c21742b8536d"
      },
      "execution_count": 24,
      "outputs": [
        {
          "output_type": "execute_result",
          "data": {
            "text/plain": [
              "array([[-0.49336876,  2.42477391, -0.03691149],\n",
              "       [-0.59108153,  2.80820223,  0.68234937],\n",
              "       [-0.53011062,  2.70037486,  0.65405409],\n",
              "       [-0.42150284,  2.37512881,  0.28946473],\n",
              "       [-0.58398895,  3.01279749,  1.4742885 ],\n",
              "       [-0.45358917,  2.40214725,  0.0188604 ],\n",
              "       [-0.49715889,  2.50836712,  0.15995968],\n",
              "       [-0.5371158 ,  2.80236016,  0.99945849],\n",
              "       [-0.58288229,  3.05154036,  1.62988527],\n",
              "       [-0.58721052,  3.08309258,  1.7212544 ]])"
            ]
          },
          "metadata": {},
          "execution_count": 24
        }
      ]
    },
    {
      "cell_type": "code",
      "source": [
        "x"
      ],
      "metadata": {
        "colab": {
          "base_uri": "https://localhost:8080/"
        },
        "id": "2rtIIuxg5eQE",
        "outputId": "c01fef41-00d6-41d2-9b66-c8bd2eef2547"
      },
      "execution_count": 25,
      "outputs": [
        {
          "output_type": "execute_result",
          "data": {
            "text/plain": [
              "array([[-1.45791542, -0.95019911],\n",
              "       [-0.92693624,  0.24962598],\n",
              "       [-0.12294944, -0.10547249],\n",
              "       [ 1.71119382, -1.47214585],\n",
              "       [ 0.29081721,  0.64729718],\n",
              "       [-0.06602264, -1.05538138],\n",
              "       [-0.5497953 , -0.62318179],\n",
              "       [ 0.24773122,  0.10871374],\n",
              "       [ 0.68543072,  0.75204341],\n",
              "       [ 0.93494973,  0.86267548]])"
            ]
          },
          "metadata": {},
          "execution_count": 25
        }
      ]
    },
    {
      "cell_type": "code",
      "source": [
        "D, N = 8, 7\n",
        "x = np.random.randn(1, D)\n",
        "y = np.repeat(x, N, axis=0)\n",
        "dy = np.random.randn(N, D)\n",
        "dx = np.sum(dy, axis=0, keepdims=True)"
      ],
      "metadata": {
        "id": "KTPFGM8V5qbS"
      },
      "execution_count": 26,
      "outputs": []
    },
    {
      "cell_type": "code",
      "source": [
        "x"
      ],
      "metadata": {
        "colab": {
          "base_uri": "https://localhost:8080/"
        },
        "id": "JEbJgV1lNdXM",
        "outputId": "13c41c08-beda-4109-d0ae-2df7c205f8da"
      },
      "execution_count": 27,
      "outputs": [
        {
          "output_type": "execute_result",
          "data": {
            "text/plain": [
              "array([[ 0.96797659, -1.27902989, -0.44266327, -2.06453233,  1.09445776,\n",
              "         0.51732486, -0.57303029,  0.80835754]])"
            ]
          },
          "metadata": {},
          "execution_count": 27
        }
      ]
    },
    {
      "cell_type": "code",
      "source": [
        "y"
      ],
      "metadata": {
        "colab": {
          "base_uri": "https://localhost:8080/"
        },
        "id": "iAKk_hxRNwGj",
        "outputId": "6007f2b6-62de-48ed-f2e3-ee68a4b1b691"
      },
      "execution_count": 28,
      "outputs": [
        {
          "output_type": "execute_result",
          "data": {
            "text/plain": [
              "array([[ 0.96797659, -1.27902989, -0.44266327, -2.06453233,  1.09445776,\n",
              "         0.51732486, -0.57303029,  0.80835754],\n",
              "       [ 0.96797659, -1.27902989, -0.44266327, -2.06453233,  1.09445776,\n",
              "         0.51732486, -0.57303029,  0.80835754],\n",
              "       [ 0.96797659, -1.27902989, -0.44266327, -2.06453233,  1.09445776,\n",
              "         0.51732486, -0.57303029,  0.80835754],\n",
              "       [ 0.96797659, -1.27902989, -0.44266327, -2.06453233,  1.09445776,\n",
              "         0.51732486, -0.57303029,  0.80835754],\n",
              "       [ 0.96797659, -1.27902989, -0.44266327, -2.06453233,  1.09445776,\n",
              "         0.51732486, -0.57303029,  0.80835754],\n",
              "       [ 0.96797659, -1.27902989, -0.44266327, -2.06453233,  1.09445776,\n",
              "         0.51732486, -0.57303029,  0.80835754],\n",
              "       [ 0.96797659, -1.27902989, -0.44266327, -2.06453233,  1.09445776,\n",
              "         0.51732486, -0.57303029,  0.80835754]])"
            ]
          },
          "metadata": {},
          "execution_count": 28
        }
      ]
    },
    {
      "cell_type": "code",
      "source": [
        "dx"
      ],
      "metadata": {
        "colab": {
          "base_uri": "https://localhost:8080/"
        },
        "id": "WGgtcc30Nyi3",
        "outputId": "10712b96-054e-4cf1-f436-aef7a24448ec"
      },
      "execution_count": 29,
      "outputs": [
        {
          "output_type": "execute_result",
          "data": {
            "text/plain": [
              "array([[-1.01655089,  2.29577591, -0.90847883, -4.96946299, -0.91511359,\n",
              "        -0.18816078,  0.22236306, -0.0987843 ]])"
            ]
          },
          "metadata": {},
          "execution_count": 29
        }
      ]
    },
    {
      "cell_type": "code",
      "source": [
        "dy"
      ],
      "metadata": {
        "colab": {
          "base_uri": "https://localhost:8080/"
        },
        "id": "p4EstAYaN3fi",
        "outputId": "3f0ca144-b2da-458b-d0a2-7cc22062ffd4"
      },
      "execution_count": 30,
      "outputs": [
        {
          "output_type": "execute_result",
          "data": {
            "text/plain": [
              "array([[-1.61815526,  1.01744552, -0.68581863, -0.84658233,  0.31980445,\n",
              "        -1.0865302 ,  0.30898563, -0.67395535],\n",
              "       [-0.10969107, -1.05154985, -1.01900041,  0.58408678,  0.23372818,\n",
              "        -1.21546156, -0.02717438, -0.33286589],\n",
              "       [-0.00746237,  0.30180415, -0.68130865, -1.34012462, -0.14817614,\n",
              "         0.50080041,  0.03008449,  0.10448142],\n",
              "       [ 0.13547661,  0.74357618, -0.05982294,  0.06449318, -3.15403265,\n",
              "         0.33181738,  0.19921745,  0.23153631],\n",
              "       [ 1.37999049,  0.9021468 , -0.24993973, -1.19865179,  1.23034735,\n",
              "        -0.26602334,  0.70472817, -0.6866936 ],\n",
              "       [-0.35134097, -1.50645185,  1.15692768, -1.56022388,  1.11141468,\n",
              "         1.37254074, -0.89788313,  0.36833081],\n",
              "       [-0.44536833,  1.88880495,  0.63048385, -0.67246033, -0.50819948,\n",
              "         0.17469579, -0.09559517,  0.89038199]])"
            ]
          },
          "metadata": {},
          "execution_count": 30
        }
      ]
    },
    {
      "cell_type": "code",
      "source": [
        "D, N = 8, 7\n",
        "x = np.random.randn(N, D)\n",
        "y = np.sum(x, axis=0, keepdims=True)"
      ],
      "metadata": {
        "id": "bKTpCX2nN3_o"
      },
      "execution_count": 31,
      "outputs": []
    },
    {
      "cell_type": "code",
      "source": [
        "x"
      ],
      "metadata": {
        "colab": {
          "base_uri": "https://localhost:8080/"
        },
        "id": "ZNrRY5BZu0i9",
        "outputId": "832694b2-cbf5-40ee-9163-151bae9efe14"
      },
      "execution_count": 32,
      "outputs": [
        {
          "output_type": "execute_result",
          "data": {
            "text/plain": [
              "array([[-0.42068914,  0.76110561, -0.85458638,  0.00581725, -1.35631633,\n",
              "         0.2402152 ,  1.08684947, -1.85567638],\n",
              "       [-0.67348333, -0.26759168,  1.85162323,  0.03018921,  0.29421979,\n",
              "         0.32197298,  0.39985322, -0.81348301],\n",
              "       [-0.79519606, -0.37333264,  0.34379252,  1.89110788, -2.4744414 ,\n",
              "        -1.95351928,  1.33995448,  1.55441547],\n",
              "       [-0.46412043,  0.25084919, -0.22119807, -2.09821751,  2.01315794,\n",
              "        -0.97526528,  1.0391135 ,  1.16697093],\n",
              "       [ 0.24197458, -0.56751732, -0.03458095,  0.61231301, -0.73129911,\n",
              "        -0.22263162, -1.86301644, -0.69184057],\n",
              "       [ 0.34900382,  0.94598872, -0.6827728 , -0.16480985,  0.55516831,\n",
              "        -0.04122057,  1.24426678,  1.1193008 ],\n",
              "       [-0.28830063,  1.23690625, -0.28112927, -0.96460594,  0.25748176,\n",
              "         0.47212337,  0.7984204 , -1.27002848]])"
            ]
          },
          "metadata": {},
          "execution_count": 32
        }
      ]
    },
    {
      "cell_type": "code",
      "source": [
        "y"
      ],
      "metadata": {
        "colab": {
          "base_uri": "https://localhost:8080/"
        },
        "id": "GvjJdq30u08P",
        "outputId": "785e9de2-e498-44ac-cc70-e379caa6086e"
      },
      "execution_count": 33,
      "outputs": [
        {
          "output_type": "execute_result",
          "data": {
            "text/plain": [
              "array([[-2.05081118,  1.98640813,  0.12114827, -0.68820595, -1.44202906,\n",
              "        -2.15832521,  4.04544142, -0.79034124]])"
            ]
          },
          "metadata": {},
          "execution_count": 33
        }
      ]
    },
    {
      "cell_type": "code",
      "source": [
        "x = [[1,2],[3,4]]\n",
        "y = np.sum(x, axis=0)"
      ],
      "metadata": {
        "id": "WNpQjhj8u1M_"
      },
      "execution_count": 34,
      "outputs": []
    },
    {
      "cell_type": "code",
      "source": [
        "y"
      ],
      "metadata": {
        "colab": {
          "base_uri": "https://localhost:8080/"
        },
        "id": "__5B0Bt7vQ_a",
        "outputId": "a906427a-0671-41b9-de15-7996d601ac87"
      },
      "execution_count": 35,
      "outputs": [
        {
          "output_type": "execute_result",
          "data": {
            "text/plain": [
              "array([4, 6])"
            ]
          },
          "metadata": {},
          "execution_count": 35
        }
      ]
    },
    {
      "cell_type": "code",
      "source": [
        "class MatMul:\n",
        "    def __init__(self, W):\n",
        "        self.params = [W]\n",
        "        self.grads = [np.zeros_like(W)]\n",
        "        self.x = None\n",
        "\n",
        "    def forward(self, x):\n",
        "        W, = self.params\n",
        "        out = np.matmul(x, W)\n",
        "        self.x = x\n",
        "        return out\n",
        "    \n",
        "    def backward(self, dout):\n",
        "        W, = self.params\n",
        "        dx = np.matmul(dout, W.T)\n",
        "        dW = np.matmul(self.x.T, dout)\n",
        "        self.grads[0][...] = dW\n",
        "        return dx"
      ],
      "metadata": {
        "id": "R2b5Pl5ivRmp"
      },
      "execution_count": 36,
      "outputs": []
    },
    {
      "cell_type": "code",
      "source": [
        "a = np.array([1, 2, 3])\n",
        "b = np.array([4, 5, 6])"
      ],
      "metadata": {
        "id": "u84rIc3p9Blg"
      },
      "execution_count": 37,
      "outputs": []
    },
    {
      "cell_type": "code",
      "source": [
        "class Sigmoid:\n",
        "    def __init__(self):\n",
        "        self.params, self.grads = [], []\n",
        "        self.out = None\n",
        "    \n",
        "    def forward(self, x):\n",
        "        out = 1 / (1 + np.exp(-x))\n",
        "        self.out = out\n",
        "        return out\n",
        "    \n",
        "    def backward(self, dout):\n",
        "        dx = dout * (1.0 - self.out) * self.out\n",
        "        return dx"
      ],
      "metadata": {
        "id": "-KtbBMUn-zOv"
      },
      "execution_count": 38,
      "outputs": []
    },
    {
      "cell_type": "code",
      "source": [
        "class Affine:\n",
        "    def __init__(self, W, b):\n",
        "        self.params = [W, b]\n",
        "        self.grads = [np.zeros_like(W), np.zeros_like(b)]\n",
        "        self.x = None\n",
        "    \n",
        "    def forward(self, x):\n",
        "        W, b = self.params\n",
        "        out = np.matmul(x, W) + b\n",
        "        self.x = x\n",
        "        return out\n",
        "    \n",
        "    def backward(self, dout):\n",
        "        W, b = self.params\n",
        "        dx = np.matmul(dout, W.T)\n",
        "        dW = np.matmul(self.x.T, dout)\n",
        "        db = np.sum(dout, axis=0)\n",
        "\n",
        "        self.grads[0][...] = dW\n",
        "        self.grads[1][...] = db\n",
        "        return dx"
      ],
      "metadata": {
        "id": "xvHCRNCh_mdA"
      },
      "execution_count": 39,
      "outputs": []
    },
    {
      "cell_type": "code",
      "source": [
        "class SGD:\n",
        "    def __init__(self, lr=0.01):\n",
        "        self.lr = lr\n",
        "    \n",
        "    def update(self, params, grads):\n",
        "        for i in range(len(params)):\n",
        "            params[i] -= self.lr * grads[i]"
      ],
      "metadata": {
        "id": "AnjPQf7zA5P8"
      },
      "execution_count": 40,
      "outputs": []
    },
    {
      "cell_type": "code",
      "source": [
        "from google.colab import drive\n",
        "drive.mount('/content/drive')"
      ],
      "metadata": {
        "colab": {
          "base_uri": "https://localhost:8080/"
        },
        "id": "CCT3lBpawVlV",
        "outputId": "9f7d9ab2-baa7-46e2-ce73-270338b17461"
      },
      "execution_count": 41,
      "outputs": [
        {
          "output_type": "stream",
          "name": "stdout",
          "text": [
            "Mounted at /content/drive\n"
          ]
        }
      ]
    },
    {
      "cell_type": "code",
      "source": [
        "cd /content/drive/MyDrive/deep-learning-from-scratch-2"
      ],
      "metadata": {
        "colab": {
          "base_uri": "https://localhost:8080/"
        },
        "id": "v-6Q5-s3yecS",
        "outputId": "88c9ba5c-7de0-4345-e035-818f9cb1347a"
      },
      "execution_count": 42,
      "outputs": [
        {
          "output_type": "stream",
          "name": "stdout",
          "text": [
            "/content/drive/MyDrive/deep-learning-from-scratch-2\n"
          ]
        }
      ]
    },
    {
      "cell_type": "code",
      "source": [
        "from dataset import spiral\n",
        "import matplotlib.pyplot as plt"
      ],
      "metadata": {
        "id": "ASzAVsz8zHHQ"
      },
      "execution_count": 43,
      "outputs": []
    },
    {
      "cell_type": "code",
      "source": [
        "x, t = spiral.load_data()\n",
        "print('x', x.shape)\n",
        "print('t', t.shape)"
      ],
      "metadata": {
        "colab": {
          "base_uri": "https://localhost:8080/"
        },
        "id": "we5iNAu0zLxG",
        "outputId": "c79375ed-e3d4-43c9-965d-ec8d470cab59"
      },
      "execution_count": 44,
      "outputs": [
        {
          "output_type": "stream",
          "name": "stdout",
          "text": [
            "x (300, 2)\n",
            "t (300, 3)\n"
          ]
        }
      ]
    },
    {
      "cell_type": "code",
      "source": [
        "x"
      ],
      "metadata": {
        "colab": {
          "base_uri": "https://localhost:8080/"
        },
        "id": "p2w09ArszpTd",
        "outputId": "168925f3-4adc-417a-f173-2120c98f2ec4"
      },
      "execution_count": 45,
      "outputs": [
        {
          "output_type": "execute_result",
          "data": {
            "text/plain": [
              "array([[-0.00000000e+00,  0.00000000e+00],\n",
              "       [-9.76986432e-04,  9.95216044e-03],\n",
              "       [ 5.12668241e-03,  1.93317647e-02],\n",
              "       [-3.86043324e-04,  2.99975161e-02],\n",
              "       [ 1.42509650e-02,  3.73752591e-02],\n",
              "       [ 9.41914082e-04,  4.99911272e-02],\n",
              "       [ 2.25361319e-02,  5.56068589e-02],\n",
              "       [ 6.52848904e-03,  6.96948982e-02],\n",
              "       [ 2.50649535e-02,  7.59720219e-02],\n",
              "       [ 2.03287580e-02,  8.76740646e-02],\n",
              "       [ 5.98440862e-02,  8.01166983e-02],\n",
              "       [ 6.19050693e-02,  9.09272368e-02],\n",
              "       [ 3.22809763e-02,  1.15576549e-01],\n",
              "       [ 8.28423530e-02,  1.00185551e-01],\n",
              "       [ 1.09856959e-01,  8.67839183e-02],\n",
              "       [ 9.33208222e-02,  1.17436043e-01],\n",
              "       [ 7.82976217e-02,  1.39533087e-01],\n",
              "       [ 1.23994559e-01,  1.16298535e-01],\n",
              "       [ 8.06199110e-02,  1.60936105e-01],\n",
              "       [ 1.39235917e-01,  1.29280158e-01],\n",
              "       [ 1.53599653e-01,  1.28090384e-01],\n",
              "       [ 1.38981638e-01,  1.57429680e-01],\n",
              "       [ 1.89873275e-01,  1.11122183e-01],\n",
              "       [ 1.41160729e-01,  1.81586477e-01],\n",
              "       [ 1.50631465e-01,  1.86842613e-01],\n",
              "       [ 1.71714639e-01,  1.81697778e-01],\n",
              "       [ 2.10050449e-01,  1.53227963e-01],\n",
              "       [ 2.32019716e-01,  1.38082770e-01],\n",
              "       [ 2.31219125e-01,  1.57916802e-01],\n",
              "       [ 2.51798226e-01,  1.43866791e-01],\n",
              "       [ 2.59928236e-01,  1.49790894e-01],\n",
              "       [ 3.03168799e-01,  6.47200053e-02],\n",
              "       [ 2.99776174e-01,  1.11956445e-01],\n",
              "       [ 2.71902926e-01,  1.86999462e-01],\n",
              "       [ 3.39649101e-01,  1.54430706e-02],\n",
              "       [ 3.41955960e-01,  7.46064458e-02],\n",
              "       [ 3.56153446e-01,  5.24854558e-02],\n",
              "       [ 3.69893826e-01, -8.86325970e-03],\n",
              "       [ 3.78749506e-01,  3.08027885e-02],\n",
              "       [ 3.89323347e-01, -2.29636922e-02],\n",
              "       [ 3.97756477e-01, -4.23058548e-02],\n",
              "       [ 3.97790750e-01, -9.93102174e-02],\n",
              "       [ 4.19082447e-01, -2.77471188e-02],\n",
              "       [ 4.26755751e-01, -5.27212418e-02],\n",
              "       [ 4.27342016e-01, -1.04779774e-01],\n",
              "       [ 4.37333586e-01, -1.06015726e-01],\n",
              "       [ 4.54778403e-01, -6.91129800e-02],\n",
              "       [ 4.33582415e-01, -1.81400909e-01],\n",
              "       [ 4.75290298e-01, -6.70755731e-02],\n",
              "       [ 4.36148818e-01, -2.23325341e-01],\n",
              "       [ 2.88929307e-01, -4.08068444e-01],\n",
              "       [ 4.69656878e-01, -1.98802456e-01],\n",
              "       [ 3.86773022e-01, -3.47572480e-01],\n",
              "       [ 5.00808621e-01, -1.73466783e-01],\n",
              "       [ 4.24431168e-01, -3.33853536e-01],\n",
              "       [ 4.24040623e-01, -3.50270681e-01],\n",
              "       [ 2.80512809e-01, -4.84677794e-01],\n",
              "       [ 5.30623098e-01, -2.08180518e-01],\n",
              "       [ 4.11038907e-01, -4.09202904e-01],\n",
              "       [ 4.62137267e-01, -3.66782151e-01],\n",
              "       [ 3.95281189e-01, -4.51389834e-01],\n",
              "       [ 3.67613445e-01, -4.86785738e-01],\n",
              "       [ 4.94556678e-01, -3.73916691e-01],\n",
              "       [ 4.35611632e-01, -4.55129109e-01],\n",
              "       [ 3.28234290e-01, -5.49419922e-01],\n",
              "       [ 2.78014129e-01, -5.87544164e-01],\n",
              "       [ 3.04441838e-01, -5.85589590e-01],\n",
              "       [-3.84353415e-02, -6.68896647e-01],\n",
              "       [ 4.32663510e-01, -5.24597262e-01],\n",
              "       [ 3.67995385e-01, -5.83677477e-01],\n",
              "       [ 1.62513204e-01, -6.80874040e-01],\n",
              "       [-7.01870180e-02, -7.06522316e-01],\n",
              "       [ 1.20922889e-01, -7.09772960e-01],\n",
              "       [ 1.81179805e-01, -7.07159019e-01],\n",
              "       [ 4.37091210e-02, -7.38708002e-01],\n",
              "       [ 1.03491018e-01, -7.42825423e-01],\n",
              "       [-6.40535178e-03, -7.59973007e-01],\n",
              "       [-1.70362786e-01, -7.50917120e-01],\n",
              "       [ 1.37916439e-01, -7.67710268e-01],\n",
              "       [-1.54966573e-02, -7.89847994e-01],\n",
              "       [-4.01784946e-02, -7.98990418e-01],\n",
              "       [-2.98916375e-01, -7.52827338e-01],\n",
              "       [-1.88135777e-01, -7.98125886e-01],\n",
              "       [-1.16656887e-03, -8.29999180e-01],\n",
              "       [-2.86409662e-01, -7.89664173e-01],\n",
              "       [-1.45414274e-01, -8.37469217e-01],\n",
              "       [-3.08244630e-01, -8.02860666e-01],\n",
              "       [-1.13882388e-01, -8.62514233e-01],\n",
              "       [-1.97807480e-01, -8.57480146e-01],\n",
              "       [-7.28153677e-01, -5.11754065e-01],\n",
              "       [-5.28735647e-01, -7.28312169e-01],\n",
              "       [-1.95859389e-01, -8.88672662e-01],\n",
              "       [-6.55599644e-01, -6.45437144e-01],\n",
              "       [-4.36321749e-01, -8.21293694e-01],\n",
              "       [-3.97220716e-01, -8.51948181e-01],\n",
              "       [-7.40823025e-01, -5.94711060e-01],\n",
              "       [-7.83135284e-01, -5.55246906e-01],\n",
              "       [-6.83380750e-01, -6.88397233e-01],\n",
              "       [-6.79385602e-01, -7.06282665e-01],\n",
              "       [-5.87009159e-01, -7.97195238e-01],\n",
              "       [-0.00000000e+00, -0.00000000e+00],\n",
              "       [-8.37020532e-03, -5.47171481e-03],\n",
              "       [-1.83996723e-02, -7.83913638e-03],\n",
              "       [-2.38615572e-02, -1.81831264e-02],\n",
              "       [-2.71639022e-02, -2.93619212e-02],\n",
              "       [-4.67712876e-02, -1.76761608e-02],\n",
              "       [-5.13932286e-02, -3.09634633e-02],\n",
              "       [-6.72785631e-02, -1.93286044e-02],\n",
              "       [-7.58815643e-02, -2.53374861e-02],\n",
              "       [-8.87183570e-02, -1.51345014e-02],\n",
              "       [-8.95920555e-02, -4.44214317e-02],\n",
              "       [-1.05681839e-01, -3.05180093e-02],\n",
              "       [-1.12859458e-01, -4.07767431e-02],\n",
              "       [-1.29959580e-01, -3.24155301e-03],\n",
              "       [-1.39813880e-01, -7.21657356e-03],\n",
              "       [-1.45884653e-01, -3.48951009e-02],\n",
              "       [-1.58860475e-01, -1.90617278e-02],\n",
              "       [-1.69789215e-01,  8.46300817e-03],\n",
              "       [-1.79892182e-01,  6.22920756e-03],\n",
              "       [-1.82531530e-01,  5.27469495e-02],\n",
              "       [-1.96787914e-01,  3.57003745e-02],\n",
              "       [-1.78610713e-01,  1.10445521e-01],\n",
              "       [-2.14327911e-01,  4.96341281e-02],\n",
              "       [-2.23948847e-01,  5.24110098e-02],\n",
              "       [-2.39863331e-01,  8.09829103e-03],\n",
              "       [-2.45011435e-01,  4.96930264e-02],\n",
              "       [-2.33354905e-01,  1.14653775e-01],\n",
              "       [-2.50877484e-01,  9.98022449e-02],\n",
              "       [-2.77281919e-01,  3.89196302e-02],\n",
              "       [-2.70172382e-01,  1.05389203e-01],\n",
              "       [-2.92387849e-01,  6.71516607e-02],\n",
              "       [-2.73972209e-01,  1.45049056e-01],\n",
              "       [-2.85671818e-01,  1.44192969e-01],\n",
              "       [-3.21248452e-01,  7.54945832e-02],\n",
              "       [-3.07272511e-01,  1.45545883e-01],\n",
              "       [-2.39745837e-01,  2.54993988e-01],\n",
              "       [-2.48112212e-01,  2.60845415e-01],\n",
              "       [-1.51453586e-01,  3.37582303e-01],\n",
              "       [-2.67068820e-01,  2.70322484e-01],\n",
              "       [-2.89146403e-01,  2.61714267e-01],\n",
              "       [-1.38404573e-01,  3.75292118e-01],\n",
              "       [-2.47585805e-01,  3.26804635e-01],\n",
              "       [-2.18612860e-01,  3.58620158e-01],\n",
              "       [-1.25241675e-01,  4.11356929e-01],\n",
              "       [-1.95264902e-01,  3.94298895e-01],\n",
              "       [-1.46778711e-01,  4.25389245e-01],\n",
              "       [-1.04988763e-01,  4.47858638e-01],\n",
              "       [-2.68359413e-01,  3.85853892e-01],\n",
              "       [-1.93548031e-01,  4.39248403e-01],\n",
              "       [-8.77361039e-02,  4.82081296e-01],\n",
              "       [-1.39120457e-01,  4.80255659e-01],\n",
              "       [-8.31852186e-02,  5.03170169e-01],\n",
              "       [-7.48872073e-02,  5.14579349e-01],\n",
              "       [-5.70803544e-03,  5.29969262e-01],\n",
              "       [-1.58687180e-02,  5.39766786e-01],\n",
              "       [-1.49002564e-01,  5.29431994e-01],\n",
              "       [-1.98435901e-03,  5.59996484e-01],\n",
              "       [-2.08488575e-01,  5.30502134e-01],\n",
              "       [ 5.65227669e-02,  5.77239272e-01],\n",
              "       [-2.89358604e-02,  5.89290010e-01],\n",
              "       [ 1.25355588e-01,  5.86758874e-01],\n",
              "       [ 6.26495621e-02,  6.06774285e-01],\n",
              "       [ 3.01335207e-01,  5.41846005e-01],\n",
              "       [ 2.75775684e-01,  5.66434261e-01],\n",
              "       [ 1.32352421e-01,  6.26165183e-01],\n",
              "       [ 3.47342639e-01,  5.49411586e-01],\n",
              "       [ 3.13540745e-01,  5.80768630e-01],\n",
              "       [-1.44067966e-01,  6.54327457e-01],\n",
              "       [ 5.02643212e-01,  4.57984499e-01],\n",
              "       [ 3.70493915e-01,  5.82094716e-01],\n",
              "       [ 3.49928740e-01,  6.06258919e-01],\n",
              "       [ 4.93501165e-01,  5.10447451e-01],\n",
              "       [ 3.63212538e-01,  6.21672464e-01],\n",
              "       [ 6.62295009e-01,  3.07026581e-01],\n",
              "       [ 3.18207549e-01,  6.68089781e-01],\n",
              "       [ 4.46081933e-01,  6.02918659e-01],\n",
              "       [ 6.18103628e-01,  4.42207988e-01],\n",
              "       [ 6.07553924e-01,  4.73052037e-01],\n",
              "       [ 5.05555512e-01,  5.93981165e-01],\n",
              "       [ 2.72157190e-01,  7.41640387e-01],\n",
              "       [ 5.70347440e-01,  5.60984668e-01],\n",
              "       [ 6.05299121e-01,  5.38249918e-01],\n",
              "       [ 6.46809095e-01,  5.04021819e-01],\n",
              "       [ 7.10706203e-01,  4.28715165e-01],\n",
              "       [ 7.35105615e-01,  4.06472305e-01],\n",
              "       [ 6.74187768e-01,  5.17659012e-01],\n",
              "       [ 8.14670518e-01,  2.75521227e-01],\n",
              "       [ 8.45117378e-01,  2.06583196e-01],\n",
              "       [ 6.40506934e-01,  6.03449142e-01],\n",
              "       [ 8.66120175e-01,  2.04782425e-01],\n",
              "       [ 8.96181358e-01,  8.28189190e-02],\n",
              "       [ 8.33525542e-01,  3.65150888e-01],\n",
              "       [ 9.18575330e-01,  5.11797183e-02],\n",
              "       [ 9.22965423e-01,  1.14170172e-01],\n",
              "       [ 9.36555210e-01,  8.04011093e-02],\n",
              "       [ 9.08727618e-01,  2.76973131e-01],\n",
              "       [ 9.50896208e-01, -1.31895416e-01],\n",
              "       [ 9.17784255e-01,  3.13961879e-01],\n",
              "       [ 9.33629259e-01, -2.97886567e-01],\n",
              "       [ 9.88995443e-01, -4.45871499e-02],\n",
              "       [ 0.00000000e+00, -0.00000000e+00],\n",
              "       [ 9.79880762e-03, -1.99583797e-03],\n",
              "       [ 1.99940729e-02,  4.86876255e-04],\n",
              "       [ 2.61662525e-02, -1.46740326e-02],\n",
              "       [ 3.84511087e-02, -1.10232589e-02],\n",
              "       [ 4.95890467e-02, -6.39737823e-03],\n",
              "       [ 5.99771637e-02, -1.65524386e-03],\n",
              "       [ 6.21697472e-02, -3.21702119e-02],\n",
              "       [ 7.43436411e-02, -2.95469632e-02],\n",
              "       [ 8.06974118e-02, -3.98488109e-02],\n",
              "       [ 8.14343751e-02, -5.80382853e-02],\n",
              "       [ 9.22001492e-02, -5.99927703e-02],\n",
              "       [ 9.37395802e-02, -7.49192306e-02],\n",
              "       [ 9.60790524e-02, -8.75717745e-02],\n",
              "       [ 1.03261762e-01, -9.45357529e-02],\n",
              "       [ 1.06370805e-01, -1.05760351e-01],\n",
              "       [ 1.37466576e-01, -8.18714884e-02],\n",
              "       [ 1.01082273e-01, -1.36683481e-01],\n",
              "       [ 1.10151505e-01, -1.42360971e-01],\n",
              "       [ 9.16540054e-02, -1.66431798e-01],\n",
              "       [ 1.29709392e-01, -1.52234929e-01],\n",
              "       [ 3.26863586e-02, -2.07440599e-01],\n",
              "       [ 1.37426305e-01, -1.71796422e-01],\n",
              "       [ 1.50106931e-01, -1.74263907e-01],\n",
              "       [ 1.32737490e-01, -1.99951891e-01],\n",
              "       [ 1.34246622e-01, -2.10897711e-01],\n",
              "       [ 9.69068794e-02, -2.41265532e-01],\n",
              "       [ 2.21194549e-02, -2.69092419e-01],\n",
              "       [ 1.03753054e-01, -2.60067883e-01],\n",
              "       [ 3.87351563e-02, -2.87401440e-01],\n",
              "       [ 1.55776942e-01, -2.56385539e-01],\n",
              "       [ 5.05915167e-02, -3.05843912e-01],\n",
              "       [ 4.49940024e-02, -3.16820990e-01],\n",
              "       [-1.74914339e-02, -3.29536113e-01],\n",
              "       [ 4.91708033e-03, -3.39964443e-01],\n",
              "       [-4.84363632e-02, -3.46632253e-01],\n",
              "       [ 1.94660931e-02, -3.59473325e-01],\n",
              "       [-1.00885395e-01, -3.55980529e-01],\n",
              "       [ 2.46037929e-03, -3.79992035e-01],\n",
              "       [-4.68117997e-02, -3.87180391e-01],\n",
              "       [-9.43358132e-02, -3.88716805e-01],\n",
              "       [-3.36669158e-02, -4.08615392e-01],\n",
              "       [-1.88529982e-01, -3.75308468e-01],\n",
              "       [-5.06039869e-02, -4.27011986e-01],\n",
              "       [-1.62425981e-01, -4.08922732e-01],\n",
              "       [-2.12648211e-01, -3.96586357e-01],\n",
              "       [-8.03418780e-02, -4.52929556e-01],\n",
              "       [-1.52934025e-01, -4.44422304e-01],\n",
              "       [-2.65614079e-01, -3.99811407e-01],\n",
              "       [-2.74970348e-01, -4.05575280e-01],\n",
              "       [-2.34573442e-01, -4.41560076e-01],\n",
              "       [-3.78612687e-01, -3.41690551e-01],\n",
              "       [-3.34460262e-01, -3.98166213e-01],\n",
              "       [-2.65222370e-01, -4.58865007e-01],\n",
              "       [-3.32119042e-01, -4.25789786e-01],\n",
              "       [-4.12557377e-01, -3.63725735e-01],\n",
              "       [-4.02002778e-01, -3.89863779e-01],\n",
              "       [-3.04770028e-01, -4.81679593e-01],\n",
              "       [-4.50761110e-01, -3.64985508e-01],\n",
              "       [-5.66743279e-01, -1.64018461e-01],\n",
              "       [-4.15392351e-01, -4.32954033e-01],\n",
              "       [-4.91811803e-01, -3.60861678e-01],\n",
              "       [-5.48909912e-01, -2.88267079e-01],\n",
              "       [-5.87812164e-01, -2.26664641e-01],\n",
              "       [-5.79543657e-01, -2.71531122e-01],\n",
              "       [-5.86563807e-01, -2.80076598e-01],\n",
              "       [-6.00326136e-01, -2.74241738e-01],\n",
              "       [-5.67589542e-01, -3.56008584e-01],\n",
              "       [-6.11252234e-01, -2.97944133e-01],\n",
              "       [-6.62681829e-01, -1.92231095e-01],\n",
              "       [-6.99434809e-01,  2.81237977e-02],\n",
              "       [-6.63528162e-01, -2.52646745e-01],\n",
              "       [-7.07437708e-01, -1.33910002e-01],\n",
              "       [-6.95635703e-01, -2.21339037e-01],\n",
              "       [-7.39522482e-01, -2.65800316e-02],\n",
              "       [-7.41761456e-01,  1.10860010e-01],\n",
              "       [-7.31852772e-01,  2.04918327e-01],\n",
              "       [-7.62821244e-01,  1.04898761e-01],\n",
              "       [-7.78110642e-01,  5.42570570e-02],\n",
              "       [-7.10909578e-01,  3.44539651e-01],\n",
              "       [-7.84879826e-01,  1.54801999e-01],\n",
              "       [-7.75097682e-01,  2.35209657e-01],\n",
              "       [-8.09110142e-01,  1.33194513e-01],\n",
              "       [-7.12117393e-01,  4.26367000e-01],\n",
              "       [-7.84729601e-01,  2.99665570e-01],\n",
              "       [-8.49662414e-01, -2.39537407e-02],\n",
              "       [-7.11847617e-01,  4.82569136e-01],\n",
              "       [-7.47488621e-01,  4.45152515e-01],\n",
              "       [-7.42609239e-01,  4.72156244e-01],\n",
              "       [-8.43868125e-01,  2.82819001e-01],\n",
              "       [-6.50907748e-01,  6.21545737e-01],\n",
              "       [-8.11713922e-01,  4.11364205e-01],\n",
              "       [-8.46795454e-01,  3.59635174e-01],\n",
              "       [-8.35929064e-01,  4.07581402e-01],\n",
              "       [-9.22350700e-01,  1.81298612e-01],\n",
              "       [-4.56405752e-01,  8.33182927e-01],\n",
              "       [-6.30262690e-01,  7.24133235e-01],\n",
              "       [-5.75705887e-01,  7.80680941e-01],\n",
              "       [-2.06074574e-01,  9.58088341e-01],\n",
              "       [-5.97431027e-01,  7.89415080e-01]])"
            ]
          },
          "metadata": {},
          "execution_count": 45
        }
      ]
    },
    {
      "cell_type": "code",
      "source": [
        "N = 100\n",
        "CLS_NUM = 3\n",
        "markers = ['o', 'x', '^']\n",
        "for i in range(CLS_NUM):\n",
        "    plt.scatter(x[i*N:(i+1)*N, 0], x[i*N:(i+1)*N, 1], s=40, marker=markers[i])\n",
        "plt.show()"
      ],
      "metadata": {
        "colab": {
          "base_uri": "https://localhost:8080/",
          "height": 265
        },
        "id": "7KuTz9-s0B8A",
        "outputId": "70b21eac-3d0c-40f9-a85b-8e8b2dfe732b"
      },
      "execution_count": 46,
      "outputs": [
        {
          "output_type": "display_data",
          "data": {
            "text/plain": [
              "<Figure size 432x288 with 1 Axes>"
            ],
            "image/png": "[encoded data removed]"
          },
          "metadata": {
            "needs_background": "light"
          }
        }
      ]
    },
    {
      "cell_type": "code",
      "source": [
        "from common.layers import Affine, Sigmoid, SoftmaxWithLoss\n",
        "\n",
        "class TwoLayerNet:\n",
        "    def __init__(self, input_size, hidden_size, output_size):\n",
        "        I, H, O = input_size, hidden_size, output_size\n",
        "\n",
        "        W1 = 0.01 * np.random.randn(I, H)\n",
        "        b1 = np.zeros(H)\n",
        "        W2 = 0.01 * np.random.randn(H, O)\n",
        "        b2 = np.zeros(O)\n",
        "\n",
        "        self.layers = [\n",
        "            Affine(W1, b1),\n",
        "            Sigmoid(),\n",
        "            Affine(W2, b2)\n",
        "        ]\n",
        "        self.loss_layer = SoftmaxWithLoss()\n",
        "\n",
        "        self.params, self.grads = [], []\n",
        "        for layer in self.layers:\n",
        "            self.params += layer.params\n",
        "            self.grads += layer.grads\n",
        "\n",
        "    def predict(self, x):\n",
        "        for layer in self.layers:\n",
        "            x = layer.forward(x)\n",
        "        return x\n",
        "    \n",
        "    def forward(self, x, t):\n",
        "        score = self.predict(x)\n",
        "        loss = self.loss_layer.forward(score, t)\n",
        "        return loss\n",
        "    \n",
        "    def backward(self, dout=1):\n",
        "        dout = self.loss_layer.backward(dout)\n",
        "        for layer in reversed(self.layers):\n",
        "            dout = layer.backward(dout)\n",
        "        return dout"
      ],
      "metadata": {
        "id": "9m2wz1mW0kei"
      },
      "execution_count": 47,
      "outputs": []
    },
    {
      "cell_type": "code",
      "source": [
        "from common.optimizer import SGD\n",
        "from dataset import spiral\n",
        "from ch01.two_layer_net import TwoLayerNet"
      ],
      "metadata": {
        "id": "T2OOmT3p6ci6"
      },
      "execution_count": 48,
      "outputs": []
    },
    {
      "cell_type": "code",
      "source": [
        "max_epoch = 300\n",
        "batch_size = 30\n",
        "hidden_size = 10\n",
        "learning_rate = 1.0"
      ],
      "metadata": {
        "id": "0cm82RxFA8Jy"
      },
      "execution_count": 49,
      "outputs": []
    },
    {
      "cell_type": "code",
      "source": [
        "x, t = spiral.load_data()\n",
        "model = TwoLayerNet(input_size=2, hidden_size=hidden_size, output_size=3)\n",
        "optimizer = SGD(lr=learning_rate)"
      ],
      "metadata": {
        "id": "zHX8UFMDCOH9"
      },
      "execution_count": 50,
      "outputs": []
    },
    {
      "cell_type": "code",
      "source": [
        "data_size = len(x)\n",
        "max_iters = data_size // batch_size\n",
        "total_loss = 0\n",
        "loss_count = 0\n",
        "loss_list = []"
      ],
      "metadata": {
        "id": "rTvHc0QlCYpF"
      },
      "execution_count": 51,
      "outputs": []
    },
    {
      "cell_type": "code",
      "source": [
        "for epoch in range(max_epoch):\n",
        "    idx = np.random.permutation(data_size)\n",
        "    x = x[idx]\n",
        "    t = t[idx]\n",
        "\n",
        "    for iters in range(max_iters):\n",
        "        batch_x = x[iters*batch_size:(iters+1)*batch_size]\n",
        "        batch_t = t[iters*batch_size:(iters+1)*batch_size]\n",
        "\n",
        "        loss = model.forward(batch_x, batch_t)\n",
        "        model.backward()\n",
        "        optimizer.update(model.params, model.grads)\n",
        "\n",
        "        total_loss += loss\n",
        "        loss_count += 1\n",
        "\n",
        "        if (iters+1) % 10 == 0:\n",
        "            avg_loss = total_loss / loss_count\n",
        "            print('| 에폭 %d| 반복 %d / %d | 손실 %.2f' % (epoch +1, iters+1, max_iters, avg_loss))\n",
        "            loss_list.append(avg_loss)\n",
        "            total_loss, loss_count = 0, 0"
      ],
      "metadata": {
        "colab": {
          "base_uri": "https://localhost:8080/"
        },
        "id": "XFAzdpDyGHt-",
        "outputId": "9542fa73-3812-4c58-80bd-d17e6ebc4ca7"
      },
      "execution_count": 52,
      "outputs": [
        {
          "output_type": "stream",
          "name": "stdout",
          "text": [
            "| 에폭 1| 반복 10 / 10 | 손실 1.13\n",
            "| 에폭 2| 반복 10 / 10 | 손실 1.13\n",
            "| 에폭 3| 반복 10 / 10 | 손실 1.12\n",
            "| 에폭 4| 반복 10 / 10 | 손실 1.12\n",
            "| 에폭 5| 반복 10 / 10 | 손실 1.11\n",
            "| 에폭 6| 반복 10 / 10 | 손실 1.14\n",
            "| 에폭 7| 반복 10 / 10 | 손실 1.16\n",
            "| 에폭 8| 반복 10 / 10 | 손실 1.11\n",
            "| 에폭 9| 반복 10 / 10 | 손실 1.12\n",
            "| 에폭 10| 반복 10 / 10 | 손실 1.13\n",
            "| 에폭 11| 반복 10 / 10 | 손실 1.12\n",
            "| 에폭 12| 반복 10 / 10 | 손실 1.11\n",
            "| 에폭 13| 반복 10 / 10 | 손실 1.09\n",
            "| 에폭 14| 반복 10 / 10 | 손실 1.08\n",
            "| 에폭 15| 반복 10 / 10 | 손실 1.04\n",
            "| 에폭 16| 반복 10 / 10 | 손실 1.03\n",
            "| 에폭 17| 반복 10 / 10 | 손실 0.96\n",
            "| 에폭 18| 반복 10 / 10 | 손실 0.92\n",
            "| 에폭 19| 반복 10 / 10 | 손실 0.92\n",
            "| 에폭 20| 반복 10 / 10 | 손실 0.87\n",
            "| 에폭 21| 반복 10 / 10 | 손실 0.85\n",
            "| 에폭 22| 반복 10 / 10 | 손실 0.82\n",
            "| 에폭 23| 반복 10 / 10 | 손실 0.79\n",
            "| 에폭 24| 반복 10 / 10 | 손실 0.78\n",
            "| 에폭 25| 반복 10 / 10 | 손실 0.82\n",
            "| 에폭 26| 반복 10 / 10 | 손실 0.78\n",
            "| 에폭 27| 반복 10 / 10 | 손실 0.76\n",
            "| 에폭 28| 반복 10 / 10 | 손실 0.76\n",
            "| 에폭 29| 반복 10 / 10 | 손실 0.78\n",
            "| 에폭 30| 반복 10 / 10 | 손실 0.75\n",
            "| 에폭 31| 반복 10 / 10 | 손실 0.78\n",
            "| 에폭 32| 반복 10 / 10 | 손실 0.77\n",
            "| 에폭 33| 반복 10 / 10 | 손실 0.77\n",
            "| 에폭 34| 반복 10 / 10 | 손실 0.78\n",
            "| 에폭 35| 반복 10 / 10 | 손실 0.75\n",
            "| 에폭 36| 반복 10 / 10 | 손실 0.74\n",
            "| 에폭 37| 반복 10 / 10 | 손실 0.76\n",
            "| 에폭 38| 반복 10 / 10 | 손실 0.76\n",
            "| 에폭 39| 반복 10 / 10 | 손실 0.73\n",
            "| 에폭 40| 반복 10 / 10 | 손실 0.75\n",
            "| 에폭 41| 반복 10 / 10 | 손실 0.76\n",
            "| 에폭 42| 반복 10 / 10 | 손실 0.76\n",
            "| 에폭 43| 반복 10 / 10 | 손실 0.76\n",
            "| 에폭 44| 반복 10 / 10 | 손실 0.74\n",
            "| 에폭 45| 반복 10 / 10 | 손실 0.75\n",
            "| 에폭 46| 반복 10 / 10 | 손실 0.73\n",
            "| 에폭 47| 반복 10 / 10 | 손실 0.72\n",
            "| 에폭 48| 반복 10 / 10 | 손실 0.73\n",
            "| 에폭 49| 반복 10 / 10 | 손실 0.72\n",
            "| 에폭 50| 반복 10 / 10 | 손실 0.72\n",
            "| 에폭 51| 반복 10 / 10 | 손실 0.72\n",
            "| 에폭 52| 반복 10 / 10 | 손실 0.72\n",
            "| 에폭 53| 반복 10 / 10 | 손실 0.74\n",
            "| 에폭 54| 반복 10 / 10 | 손실 0.74\n",
            "| 에폭 55| 반복 10 / 10 | 손실 0.72\n",
            "| 에폭 56| 반복 10 / 10 | 손실 0.72\n",
            "| 에폭 57| 반복 10 / 10 | 손실 0.71\n",
            "| 에폭 58| 반복 10 / 10 | 손실 0.70\n",
            "| 에폭 59| 반복 10 / 10 | 손실 0.72\n",
            "| 에폭 60| 반복 10 / 10 | 손실 0.70\n",
            "| 에폭 61| 반복 10 / 10 | 손실 0.71\n",
            "| 에폭 62| 반복 10 / 10 | 손실 0.72\n",
            "| 에폭 63| 반복 10 / 10 | 손실 0.70\n",
            "| 에폭 64| 반복 10 / 10 | 손실 0.71\n",
            "| 에폭 65| 반복 10 / 10 | 손실 0.73\n",
            "| 에폭 66| 반복 10 / 10 | 손실 0.70\n",
            "| 에폭 67| 반복 10 / 10 | 손실 0.71\n",
            "| 에폭 68| 반복 10 / 10 | 손실 0.69\n",
            "| 에폭 69| 반복 10 / 10 | 손실 0.70\n",
            "| 에폭 70| 반복 10 / 10 | 손실 0.71\n",
            "| 에폭 71| 반복 10 / 10 | 손실 0.68\n",
            "| 에폭 72| 반복 10 / 10 | 손실 0.69\n",
            "| 에폭 73| 반복 10 / 10 | 손실 0.67\n",
            "| 에폭 74| 반복 10 / 10 | 손실 0.68\n",
            "| 에폭 75| 반복 10 / 10 | 손실 0.67\n",
            "| 에폭 76| 반복 10 / 10 | 손실 0.66\n",
            "| 에폭 77| 반복 10 / 10 | 손실 0.69\n",
            "| 에폭 78| 반복 10 / 10 | 손실 0.64\n",
            "| 에폭 79| 반복 10 / 10 | 손실 0.68\n",
            "| 에폭 80| 반복 10 / 10 | 손실 0.64\n",
            "| 에폭 81| 반복 10 / 10 | 손실 0.64\n",
            "| 에폭 82| 반복 10 / 10 | 손실 0.66\n",
            "| 에폭 83| 반복 10 / 10 | 손실 0.62\n",
            "| 에폭 84| 반복 10 / 10 | 손실 0.62\n",
            "| 에폭 85| 반복 10 / 10 | 손실 0.61\n",
            "| 에폭 86| 반복 10 / 10 | 손실 0.60\n",
            "| 에폭 87| 반복 10 / 10 | 손실 0.60\n",
            "| 에폭 88| 반복 10 / 10 | 손실 0.61\n",
            "| 에폭 89| 반복 10 / 10 | 손실 0.59\n",
            "| 에폭 90| 반복 10 / 10 | 손실 0.58\n",
            "| 에폭 91| 반복 10 / 10 | 손실 0.56\n",
            "| 에폭 92| 반복 10 / 10 | 손실 0.56\n",
            "| 에폭 93| 반복 10 / 10 | 손실 0.54\n",
            "| 에폭 94| 반복 10 / 10 | 손실 0.53\n",
            "| 에폭 95| 반복 10 / 10 | 손실 0.53\n",
            "| 에폭 96| 반복 10 / 10 | 손실 0.52\n",
            "| 에폭 97| 반복 10 / 10 | 손실 0.51\n",
            "| 에폭 98| 반복 10 / 10 | 손실 0.50\n",
            "| 에폭 99| 반복 10 / 10 | 손실 0.48\n",
            "| 에폭 100| 반복 10 / 10 | 손실 0.48\n",
            "| 에폭 101| 반복 10 / 10 | 손실 0.46\n",
            "| 에폭 102| 반복 10 / 10 | 손실 0.45\n",
            "| 에폭 103| 반복 10 / 10 | 손실 0.45\n",
            "| 에폭 104| 반복 10 / 10 | 손실 0.44\n",
            "| 에폭 105| 반복 10 / 10 | 손실 0.44\n",
            "| 에폭 106| 반복 10 / 10 | 손실 0.41\n",
            "| 에폭 107| 반복 10 / 10 | 손실 0.40\n",
            "| 에폭 108| 반복 10 / 10 | 손실 0.41\n",
            "| 에폭 109| 반복 10 / 10 | 손실 0.40\n",
            "| 에폭 110| 반복 10 / 10 | 손실 0.40\n",
            "| 에폭 111| 반복 10 / 10 | 손실 0.38\n",
            "| 에폭 112| 반복 10 / 10 | 손실 0.38\n",
            "| 에폭 113| 반복 10 / 10 | 손실 0.36\n",
            "| 에폭 114| 반복 10 / 10 | 손실 0.37\n",
            "| 에폭 115| 반복 10 / 10 | 손실 0.35\n",
            "| 에폭 116| 반복 10 / 10 | 손실 0.34\n",
            "| 에폭 117| 반복 10 / 10 | 손실 0.34\n",
            "| 에폭 118| 반복 10 / 10 | 손실 0.34\n",
            "| 에폭 119| 반복 10 / 10 | 손실 0.33\n",
            "| 에폭 120| 반복 10 / 10 | 손실 0.34\n",
            "| 에폭 121| 반복 10 / 10 | 손실 0.32\n",
            "| 에폭 122| 반복 10 / 10 | 손실 0.32\n",
            "| 에폭 123| 반복 10 / 10 | 손실 0.31\n",
            "| 에폭 124| 반복 10 / 10 | 손실 0.31\n",
            "| 에폭 125| 반복 10 / 10 | 손실 0.30\n",
            "| 에폭 126| 반복 10 / 10 | 손실 0.30\n",
            "| 에폭 127| 반복 10 / 10 | 손실 0.28\n",
            "| 에폭 128| 반복 10 / 10 | 손실 0.28\n",
            "| 에폭 129| 반복 10 / 10 | 손실 0.28\n",
            "| 에폭 130| 반복 10 / 10 | 손실 0.28\n",
            "| 에폭 131| 반복 10 / 10 | 손실 0.27\n",
            "| 에폭 132| 반복 10 / 10 | 손실 0.27\n",
            "| 에폭 133| 반복 10 / 10 | 손실 0.27\n",
            "| 에폭 134| 반복 10 / 10 | 손실 0.27\n",
            "| 에폭 135| 반복 10 / 10 | 손실 0.27\n",
            "| 에폭 136| 반복 10 / 10 | 손실 0.26\n",
            "| 에폭 137| 반복 10 / 10 | 손실 0.26\n",
            "| 에폭 138| 반복 10 / 10 | 손실 0.26\n",
            "| 에폭 139| 반복 10 / 10 | 손실 0.25\n",
            "| 에폭 140| 반복 10 / 10 | 손실 0.24\n",
            "| 에폭 141| 반복 10 / 10 | 손실 0.24\n",
            "| 에폭 142| 반복 10 / 10 | 손실 0.25\n",
            "| 에폭 143| 반복 10 / 10 | 손실 0.24\n",
            "| 에폭 144| 반복 10 / 10 | 손실 0.24\n",
            "| 에폭 145| 반복 10 / 10 | 손실 0.23\n",
            "| 에폭 146| 반복 10 / 10 | 손실 0.24\n",
            "| 에폭 147| 반복 10 / 10 | 손실 0.23\n",
            "| 에폭 148| 반복 10 / 10 | 손실 0.23\n",
            "| 에폭 149| 반복 10 / 10 | 손실 0.22\n",
            "| 에폭 150| 반복 10 / 10 | 손실 0.22\n",
            "| 에폭 151| 반복 10 / 10 | 손실 0.22\n",
            "| 에폭 152| 반복 10 / 10 | 손실 0.22\n",
            "| 에폭 153| 반복 10 / 10 | 손실 0.22\n",
            "| 에폭 154| 반복 10 / 10 | 손실 0.22\n",
            "| 에폭 155| 반복 10 / 10 | 손실 0.22\n",
            "| 에폭 156| 반복 10 / 10 | 손실 0.21\n",
            "| 에폭 157| 반복 10 / 10 | 손실 0.21\n",
            "| 에폭 158| 반복 10 / 10 | 손실 0.20\n",
            "| 에폭 159| 반복 10 / 10 | 손실 0.21\n",
            "| 에폭 160| 반복 10 / 10 | 손실 0.20\n",
            "| 에폭 161| 반복 10 / 10 | 손실 0.20\n",
            "| 에폭 162| 반복 10 / 10 | 손실 0.20\n",
            "| 에폭 163| 반복 10 / 10 | 손실 0.21\n",
            "| 에폭 164| 반복 10 / 10 | 손실 0.20\n",
            "| 에폭 165| 반복 10 / 10 | 손실 0.20\n",
            "| 에폭 166| 반복 10 / 10 | 손실 0.19\n",
            "| 에폭 167| 반복 10 / 10 | 손실 0.19\n",
            "| 에폭 168| 반복 10 / 10 | 손실 0.19\n",
            "| 에폭 169| 반복 10 / 10 | 손실 0.19\n",
            "| 에폭 170| 반복 10 / 10 | 손실 0.19\n",
            "| 에폭 171| 반복 10 / 10 | 손실 0.19\n",
            "| 에폭 172| 반복 10 / 10 | 손실 0.18\n",
            "| 에폭 173| 반복 10 / 10 | 손실 0.18\n",
            "| 에폭 174| 반복 10 / 10 | 손실 0.18\n",
            "| 에폭 175| 반복 10 / 10 | 손실 0.18\n",
            "| 에폭 176| 반복 10 / 10 | 손실 0.18\n",
            "| 에폭 177| 반복 10 / 10 | 손실 0.18\n",
            "| 에폭 178| 반복 10 / 10 | 손실 0.18\n",
            "| 에폭 179| 반복 10 / 10 | 손실 0.17\n",
            "| 에폭 180| 반복 10 / 10 | 손실 0.17\n",
            "| 에폭 181| 반복 10 / 10 | 손실 0.18\n",
            "| 에폭 182| 반복 10 / 10 | 손실 0.17\n",
            "| 에폭 183| 반복 10 / 10 | 손실 0.18\n",
            "| 에폭 184| 반복 10 / 10 | 손실 0.17\n",
            "| 에폭 185| 반복 10 / 10 | 손실 0.17\n",
            "| 에폭 186| 반복 10 / 10 | 손실 0.18\n",
            "| 에폭 187| 반복 10 / 10 | 손실 0.17\n",
            "| 에폭 188| 반복 10 / 10 | 손실 0.17\n",
            "| 에폭 189| 반복 10 / 10 | 손실 0.17\n",
            "| 에폭 190| 반복 10 / 10 | 손실 0.17\n",
            "| 에폭 191| 반복 10 / 10 | 손실 0.16\n",
            "| 에폭 192| 반복 10 / 10 | 손실 0.17\n",
            "| 에폭 193| 반복 10 / 10 | 손실 0.16\n",
            "| 에폭 194| 반복 10 / 10 | 손실 0.16\n",
            "| 에폭 195| 반복 10 / 10 | 손실 0.16\n",
            "| 에폭 196| 반복 10 / 10 | 손실 0.16\n",
            "| 에폭 197| 반복 10 / 10 | 손실 0.16\n",
            "| 에폭 198| 반복 10 / 10 | 손실 0.15\n",
            "| 에폭 199| 반복 10 / 10 | 손실 0.16\n",
            "| 에폭 200| 반복 10 / 10 | 손실 0.16\n",
            "| 에폭 201| 반복 10 / 10 | 손실 0.15\n",
            "| 에폭 202| 반복 10 / 10 | 손실 0.16\n",
            "| 에폭 203| 반복 10 / 10 | 손실 0.16\n",
            "| 에폭 204| 반복 10 / 10 | 손실 0.15\n",
            "| 에폭 205| 반복 10 / 10 | 손실 0.16\n",
            "| 에폭 206| 반복 10 / 10 | 손실 0.15\n",
            "| 에폭 207| 반복 10 / 10 | 손실 0.15\n",
            "| 에폭 208| 반복 10 / 10 | 손실 0.15\n",
            "| 에폭 209| 반복 10 / 10 | 손실 0.15\n",
            "| 에폭 210| 반복 10 / 10 | 손실 0.15\n",
            "| 에폭 211| 반복 10 / 10 | 손실 0.15\n",
            "| 에폭 212| 반복 10 / 10 | 손실 0.15\n",
            "| 에폭 213| 반복 10 / 10 | 손실 0.15\n",
            "| 에폭 214| 반복 10 / 10 | 손실 0.15\n",
            "| 에폭 215| 반복 10 / 10 | 손실 0.15\n",
            "| 에폭 216| 반복 10 / 10 | 손실 0.14\n",
            "| 에폭 217| 반복 10 / 10 | 손실 0.14\n",
            "| 에폭 218| 반복 10 / 10 | 손실 0.15\n",
            "| 에폭 219| 반복 10 / 10 | 손실 0.14\n",
            "| 에폭 220| 반복 10 / 10 | 손실 0.14\n",
            "| 에폭 221| 반복 10 / 10 | 손실 0.14\n",
            "| 에폭 222| 반복 10 / 10 | 손실 0.14\n",
            "| 에폭 223| 반복 10 / 10 | 손실 0.14\n",
            "| 에폭 224| 반복 10 / 10 | 손실 0.14\n",
            "| 에폭 225| 반복 10 / 10 | 손실 0.14\n",
            "| 에폭 226| 반복 10 / 10 | 손실 0.14\n",
            "| 에폭 227| 반복 10 / 10 | 손실 0.14\n",
            "| 에폭 228| 반복 10 / 10 | 손실 0.14\n",
            "| 에폭 229| 반복 10 / 10 | 손실 0.13\n",
            "| 에폭 230| 반복 10 / 10 | 손실 0.14\n",
            "| 에폭 231| 반복 10 / 10 | 손실 0.13\n",
            "| 에폭 232| 반복 10 / 10 | 손실 0.14\n",
            "| 에폭 233| 반복 10 / 10 | 손실 0.13\n",
            "| 에폭 234| 반복 10 / 10 | 손실 0.13\n",
            "| 에폭 235| 반복 10 / 10 | 손실 0.13\n",
            "| 에폭 236| 반복 10 / 10 | 손실 0.13\n",
            "| 에폭 237| 반복 10 / 10 | 손실 0.14\n",
            "| 에폭 238| 반복 10 / 10 | 손실 0.13\n",
            "| 에폭 239| 반복 10 / 10 | 손실 0.13\n",
            "| 에폭 240| 반복 10 / 10 | 손실 0.14\n",
            "| 에폭 241| 반복 10 / 10 | 손실 0.13\n",
            "| 에폭 242| 반복 10 / 10 | 손실 0.13\n",
            "| 에폭 243| 반복 10 / 10 | 손실 0.13\n",
            "| 에폭 244| 반복 10 / 10 | 손실 0.13\n",
            "| 에폭 245| 반복 10 / 10 | 손실 0.13\n",
            "| 에폭 246| 반복 10 / 10 | 손실 0.13\n",
            "| 에폭 247| 반복 10 / 10 | 손실 0.13\n",
            "| 에폭 248| 반복 10 / 10 | 손실 0.13\n",
            "| 에폭 249| 반복 10 / 10 | 손실 0.13\n",
            "| 에폭 250| 반복 10 / 10 | 손실 0.13\n",
            "| 에폭 251| 반복 10 / 10 | 손실 0.13\n",
            "| 에폭 252| 반복 10 / 10 | 손실 0.12\n",
            "| 에폭 253| 반복 10 / 10 | 손실 0.12\n",
            "| 에폭 254| 반복 10 / 10 | 손실 0.12\n",
            "| 에폭 255| 반복 10 / 10 | 손실 0.12\n",
            "| 에폭 256| 반복 10 / 10 | 손실 0.12\n",
            "| 에폭 257| 반복 10 / 10 | 손실 0.12\n",
            "| 에폭 258| 반복 10 / 10 | 손실 0.12\n",
            "| 에폭 259| 반복 10 / 10 | 손실 0.13\n",
            "| 에폭 260| 반복 10 / 10 | 손실 0.12\n",
            "| 에폭 261| 반복 10 / 10 | 손실 0.13\n",
            "| 에폭 262| 반복 10 / 10 | 손실 0.12\n",
            "| 에폭 263| 반복 10 / 10 | 손실 0.12\n",
            "| 에폭 264| 반복 10 / 10 | 손실 0.13\n",
            "| 에폭 265| 반복 10 / 10 | 손실 0.12\n",
            "| 에폭 266| 반복 10 / 10 | 손실 0.12\n",
            "| 에폭 267| 반복 10 / 10 | 손실 0.12\n",
            "| 에폭 268| 반복 10 / 10 | 손실 0.12\n",
            "| 에폭 269| 반복 10 / 10 | 손실 0.11\n",
            "| 에폭 270| 반복 10 / 10 | 손실 0.12\n",
            "| 에폭 271| 반복 10 / 10 | 손실 0.12\n",
            "| 에폭 272| 반복 10 / 10 | 손실 0.12\n",
            "| 에폭 273| 반복 10 / 10 | 손실 0.12\n",
            "| 에폭 274| 반복 10 / 10 | 손실 0.12\n",
            "| 에폭 275| 반복 10 / 10 | 손실 0.11\n",
            "| 에폭 276| 반복 10 / 10 | 손실 0.12\n",
            "| 에폭 277| 반복 10 / 10 | 손실 0.12\n",
            "| 에폭 278| 반복 10 / 10 | 손실 0.11\n",
            "| 에폭 279| 반복 10 / 10 | 손실 0.11\n",
            "| 에폭 280| 반복 10 / 10 | 손실 0.11\n",
            "| 에폭 281| 반복 10 / 10 | 손실 0.11\n",
            "| 에폭 282| 반복 10 / 10 | 손실 0.12\n",
            "| 에폭 283| 반복 10 / 10 | 손실 0.11\n",
            "| 에폭 284| 반복 10 / 10 | 손실 0.11\n",
            "| 에폭 285| 반복 10 / 10 | 손실 0.11\n",
            "| 에폭 286| 반복 10 / 10 | 손실 0.11\n",
            "| 에폭 287| 반복 10 / 10 | 손실 0.11\n",
            "| 에폭 288| 반복 10 / 10 | 손실 0.12\n",
            "| 에폭 289| 반복 10 / 10 | 손실 0.11\n",
            "| 에폭 290| 반복 10 / 10 | 손실 0.11\n",
            "| 에폭 291| 반복 10 / 10 | 손실 0.11\n",
            "| 에폭 292| 반복 10 / 10 | 손실 0.11\n",
            "| 에폭 293| 반복 10 / 10 | 손실 0.11\n",
            "| 에폭 294| 반복 10 / 10 | 손실 0.11\n",
            "| 에폭 295| 반복 10 / 10 | 손실 0.12\n",
            "| 에폭 296| 반복 10 / 10 | 손실 0.11\n",
            "| 에폭 297| 반복 10 / 10 | 손실 0.12\n",
            "| 에폭 298| 반복 10 / 10 | 손실 0.11\n",
            "| 에폭 299| 반복 10 / 10 | 손실 0.11\n",
            "| 에폭 300| 반복 10 / 10 | 손실 0.11\n"
          ]
        }
      ]
    },
    {
      "cell_type": "code",
      "source": [
        "# 학습 결과 플롯\n",
        "plt.plot(np.arange(len(loss_list)), loss_list, label='train')\n",
        "plt.xlabel('iteration (x10)')\n",
        "plt.ylabel('loss')\n",
        "plt.show()"
      ],
      "metadata": {
        "colab": {
          "base_uri": "https://localhost:8080/",
          "height": 281
        },
        "id": "V1QQ0_LPJCRX",
        "outputId": "535c392b-c137-4210-dcfb-88cb6df6c719"
      },
      "execution_count": 53,
      "outputs": [
        {
          "output_type": "display_data",
          "data": {
            "text/plain": [
              "<Figure size 432x288 with 1 Axes>"
            ],
            "image/png": "[encoded data removed]"
          },
          "metadata": {
            "needs_background": "light"
          }
        }
      ]
    },
    {
      "cell_type": "code",
      "source": [
        "# 경계 영역 플롯\n",
        "h = 0.001\n",
        "x_min, x_max = x[:, 0].min() - .1, x[:, 0].max() + .1\n",
        "y_min, y_max = x[:, 1].min() - .1, x[:, 1].max() + .1\n",
        "xx, yy = np.meshgrid(np.arange(x_min, x_max, h), np.arange(y_min, y_max, h))\n",
        "X = np.c_[xx.ravel(), yy.ravel()]\n",
        "score = model.predict(X)\n",
        "predict_cls = np.argmax(score, axis=1)\n",
        "Z = predict_cls.reshape(xx.shape)\n",
        "plt.contourf(xx, yy, Z)\n",
        "plt.axis('off')\n",
        "\n",
        "# 데이터점 플롯\n",
        "x, t = spiral.load_data()\n",
        "N = 100\n",
        "CLS_NUM = 3\n",
        "markers = ['o', 'x', '^']\n",
        "for i in range(CLS_NUM):\n",
        "    plt.scatter(x[i*N:(i+1)*N, 0], x[i*N:(i+1)*N, 1], s=40, marker=markers[i])\n",
        "plt.show()"
      ],
      "metadata": {
        "colab": {
          "base_uri": "https://localhost:8080/",
          "height": 248
        },
        "id": "DdKrCMG7SHcu",
        "outputId": "4bcd4198-5d21-4a77-b236-0476c13e3741"
      },
      "execution_count": 54,
      "outputs": [
        {
          "output_type": "display_data",
          "data": {
            "text/plain": [
              "<Figure size 432x288 with 1 Axes>"
            ],
            "image/png": "[encoded data removed]"
          },
          "metadata": {
            "needs_background": "light"
          }
        }
      ]
    },
    {
      "cell_type": "code",
      "source": [
        "from common.optimizer import SGD\n",
        "from common.trainer import Trainer\n",
        "from dataset import spiral\n",
        "from ch01.two_layer_net import TwoLayerNet"
      ],
      "metadata": {
        "id": "MfsYowojTpCK"
      },
      "execution_count": 55,
      "outputs": []
    },
    {
      "cell_type": "code",
      "source": [
        "max_epoch = 300\n",
        "batch_size = 30\n",
        "hidden_size =10\n",
        "learning_rate = 1.0\n",
        "\n",
        "x, t = spiral.load_data()\n",
        "model = TwoLayerNet(input_size=2, hidden_size=hidden_size, output_size=3)\n",
        "optimizer = SGD(lr=learning_rate)\n",
        "\n",
        "trainer = Trainer(model, optimizer)\n",
        "trainer.fit(x, t, max_epoch, batch_size, eval_interval=10)\n",
        "trainer.plot()"
      ],
      "metadata": {
        "colab": {
          "base_uri": "https://localhost:8080/",
          "height": 1000
        },
        "id": "BADiT7_7V8_9",
        "outputId": "59db8824-9e33-4620-d251-6aab30527744"
      },
      "execution_count": 56,
      "outputs": [
        {
          "output_type": "stream",
          "name": "stdout",
          "text": [
            "| 에폭 1 |  반복 1 / 10 | 시간 0[s] | 손실 1.10\n",
            "| 에폭 2 |  반복 1 / 10 | 시간 0[s] | 손실 1.12\n",
            "| 에폭 3 |  반복 1 / 10 | 시간 0[s] | 손실 1.13\n",
            "| 에폭 4 |  반복 1 / 10 | 시간 0[s] | 손실 1.12\n",
            "| 에폭 5 |  반복 1 / 10 | 시간 0[s] | 손실 1.12\n",
            "| 에폭 6 |  반복 1 / 10 | 시간 0[s] | 손실 1.10\n",
            "| 에폭 7 |  반복 1 / 10 | 시간 0[s] | 손실 1.14\n",
            "| 에폭 8 |  반복 1 / 10 | 시간 0[s] | 손실 1.16\n",
            "| 에폭 9 |  반복 1 / 10 | 시간 0[s] | 손실 1.11\n",
            "| 에폭 10 |  반복 1 / 10 | 시간 0[s] | 손실 1.12\n",
            "| 에폭 11 |  반복 1 / 10 | 시간 0[s] | 손실 1.12\n",
            "| 에폭 12 |  반복 1 / 10 | 시간 0[s] | 손실 1.12\n",
            "| 에폭 13 |  반복 1 / 10 | 시간 0[s] | 손실 1.10\n",
            "| 에폭 14 |  반복 1 / 10 | 시간 0[s] | 손실 1.09\n",
            "| 에폭 15 |  반복 1 / 10 | 시간 0[s] | 손실 1.08\n",
            "| 에폭 16 |  반복 1 / 10 | 시간 0[s] | 손실 1.04\n",
            "| 에폭 17 |  반복 1 / 10 | 시간 0[s] | 손실 1.03\n",
            "| 에폭 18 |  반복 1 / 10 | 시간 0[s] | 손실 0.94\n",
            "| 에폭 19 |  반복 1 / 10 | 시간 0[s] | 손실 0.92\n",
            "| 에폭 20 |  반복 1 / 10 | 시간 0[s] | 손실 0.92\n",
            "| 에폭 21 |  반복 1 / 10 | 시간 0[s] | 손실 0.87\n",
            "| 에폭 22 |  반복 1 / 10 | 시간 0[s] | 손실 0.85\n",
            "| 에폭 23 |  반복 1 / 10 | 시간 0[s] | 손실 0.80\n",
            "| 에폭 24 |  반복 1 / 10 | 시간 0[s] | 손실 0.79\n",
            "| 에폭 25 |  반복 1 / 10 | 시간 0[s] | 손실 0.78\n",
            "| 에폭 26 |  반복 1 / 10 | 시간 0[s] | 손실 0.83\n",
            "| 에폭 27 |  반복 1 / 10 | 시간 0[s] | 손실 0.77\n",
            "| 에폭 28 |  반복 1 / 10 | 시간 0[s] | 손실 0.76\n",
            "| 에폭 29 |  반복 1 / 10 | 시간 0[s] | 손실 0.77\n",
            "| 에폭 30 |  반복 1 / 10 | 시간 0[s] | 손실 0.76\n",
            "| 에폭 31 |  반복 1 / 10 | 시간 0[s] | 손실 0.77\n",
            "| 에폭 32 |  반복 1 / 10 | 시간 0[s] | 손실 0.75\n",
            "| 에폭 33 |  반복 1 / 10 | 시간 0[s] | 손실 0.78\n",
            "| 에폭 34 |  반복 1 / 10 | 시간 0[s] | 손실 0.77\n",
            "| 에폭 35 |  반복 1 / 10 | 시간 0[s] | 손실 0.78\n",
            "| 에폭 36 |  반복 1 / 10 | 시간 0[s] | 손실 0.74\n",
            "| 에폭 37 |  반복 1 / 10 | 시간 0[s] | 손실 0.75\n",
            "| 에폭 38 |  반복 1 / 10 | 시간 0[s] | 손실 0.77\n",
            "| 에폭 39 |  반복 1 / 10 | 시간 0[s] | 손실 0.75\n",
            "| 에폭 40 |  반복 1 / 10 | 시간 0[s] | 손실 0.73\n",
            "| 에폭 41 |  반복 1 / 10 | 시간 0[s] | 손실 0.75\n",
            "| 에폭 42 |  반복 1 / 10 | 시간 0[s] | 손실 0.76\n",
            "| 에폭 43 |  반복 1 / 10 | 시간 0[s] | 손실 0.79\n",
            "| 에폭 44 |  반복 1 / 10 | 시간 0[s] | 손실 0.74\n",
            "| 에폭 45 |  반복 1 / 10 | 시간 0[s] | 손실 0.75\n",
            "| 에폭 46 |  반복 1 / 10 | 시간 0[s] | 손실 0.73\n",
            "| 에폭 47 |  반복 1 / 10 | 시간 0[s] | 손실 0.73\n",
            "| 에폭 48 |  반복 1 / 10 | 시간 0[s] | 손실 0.73\n",
            "| 에폭 49 |  반복 1 / 10 | 시간 0[s] | 손실 0.73\n",
            "| 에폭 50 |  반복 1 / 10 | 시간 0[s] | 손실 0.72\n",
            "| 에폭 51 |  반복 1 / 10 | 시간 0[s] | 손실 0.72\n",
            "| 에폭 52 |  반복 1 / 10 | 시간 0[s] | 손실 0.72\n",
            "| 에폭 53 |  반복 1 / 10 | 시간 0[s] | 손실 0.72\n",
            "| 에폭 54 |  반복 1 / 10 | 시간 0[s] | 손실 0.74\n",
            "| 에폭 55 |  반복 1 / 10 | 시간 0[s] | 손실 0.74\n",
            "| 에폭 56 |  반복 1 / 10 | 시간 0[s] | 손실 0.73\n",
            "| 에폭 57 |  반복 1 / 10 | 시간 0[s] | 손실 0.72\n",
            "| 에폭 58 |  반복 1 / 10 | 시간 0[s] | 손실 0.69\n",
            "| 에폭 59 |  반복 1 / 10 | 시간 0[s] | 손실 0.72\n",
            "| 에폭 60 |  반복 1 / 10 | 시간 0[s] | 손실 0.70\n",
            "| 에폭 61 |  반복 1 / 10 | 시간 0[s] | 손실 0.69\n",
            "| 에폭 62 |  반복 1 / 10 | 시간 0[s] | 손실 0.71\n",
            "| 에폭 63 |  반복 1 / 10 | 시간 0[s] | 손실 0.70\n",
            "| 에폭 64 |  반복 1 / 10 | 시간 0[s] | 손실 0.71\n",
            "| 에폭 65 |  반복 1 / 10 | 시간 0[s] | 손실 0.72\n",
            "| 에폭 66 |  반복 1 / 10 | 시간 0[s] | 손실 0.71\n",
            "| 에폭 67 |  반복 1 / 10 | 시간 0[s] | 손실 0.71\n",
            "| 에폭 68 |  반복 1 / 10 | 시간 0[s] | 손실 0.71\n",
            "| 에폭 69 |  반복 1 / 10 | 시간 0[s] | 손실 0.70\n",
            "| 에폭 70 |  반복 1 / 10 | 시간 0[s] | 손실 0.68\n",
            "| 에폭 71 |  반복 1 / 10 | 시간 0[s] | 손실 0.73\n",
            "| 에폭 72 |  반복 1 / 10 | 시간 0[s] | 손실 0.66\n",
            "| 에폭 73 |  반복 1 / 10 | 시간 0[s] | 손실 0.69\n",
            "| 에폭 74 |  반복 1 / 10 | 시간 0[s] | 손실 0.66\n",
            "| 에폭 75 |  반복 1 / 10 | 시간 0[s] | 손실 0.70\n",
            "| 에폭 76 |  반복 1 / 10 | 시간 0[s] | 손실 0.65\n",
            "| 에폭 77 |  반복 1 / 10 | 시간 0[s] | 손실 0.67\n",
            "| 에폭 78 |  반복 1 / 10 | 시간 0[s] | 손실 0.70\n",
            "| 에폭 79 |  반복 1 / 10 | 시간 0[s] | 손실 0.63\n",
            "| 에폭 80 |  반복 1 / 10 | 시간 0[s] | 손실 0.66\n",
            "| 에폭 81 |  반복 1 / 10 | 시간 0[s] | 손실 0.65\n",
            "| 에폭 82 |  반복 1 / 10 | 시간 0[s] | 손실 0.66\n",
            "| 에폭 83 |  반복 1 / 10 | 시간 0[s] | 손실 0.64\n",
            "| 에폭 84 |  반복 1 / 10 | 시간 0[s] | 손실 0.62\n",
            "| 에폭 85 |  반복 1 / 10 | 시간 0[s] | 손실 0.62\n",
            "| 에폭 86 |  반복 1 / 10 | 시간 0[s] | 손실 0.63\n",
            "| 에폭 87 |  반복 1 / 10 | 시간 0[s] | 손실 0.59\n",
            "| 에폭 88 |  반복 1 / 10 | 시간 0[s] | 손실 0.58\n",
            "| 에폭 89 |  반복 1 / 10 | 시간 0[s] | 손실 0.61\n",
            "| 에폭 90 |  반복 1 / 10 | 시간 0[s] | 손실 0.59\n",
            "| 에폭 91 |  반복 1 / 10 | 시간 0[s] | 손실 0.58\n",
            "| 에폭 92 |  반복 1 / 10 | 시간 0[s] | 손실 0.57\n",
            "| 에폭 93 |  반복 1 / 10 | 시간 0[s] | 손실 0.55\n",
            "| 에폭 94 |  반복 1 / 10 | 시간 0[s] | 손실 0.54\n",
            "| 에폭 95 |  반복 1 / 10 | 시간 0[s] | 손실 0.53\n",
            "| 에폭 96 |  반복 1 / 10 | 시간 0[s] | 손실 0.54\n",
            "| 에폭 97 |  반복 1 / 10 | 시간 0[s] | 손실 0.51\n",
            "| 에폭 98 |  반복 1 / 10 | 시간 0[s] | 손실 0.51\n",
            "| 에폭 99 |  반복 1 / 10 | 시간 0[s] | 손실 0.50\n",
            "| 에폭 100 |  반복 1 / 10 | 시간 0[s] | 손실 0.47\n",
            "| 에폭 101 |  반복 1 / 10 | 시간 0[s] | 손실 0.49\n",
            "| 에폭 102 |  반복 1 / 10 | 시간 0[s] | 손실 0.46\n",
            "| 에폭 103 |  반복 1 / 10 | 시간 0[s] | 손실 0.44\n",
            "| 에폭 104 |  반복 1 / 10 | 시간 0[s] | 손실 0.47\n",
            "| 에폭 105 |  반복 1 / 10 | 시간 0[s] | 손실 0.44\n",
            "| 에폭 106 |  반복 1 / 10 | 시간 0[s] | 손실 0.43\n",
            "| 에폭 107 |  반복 1 / 10 | 시간 0[s] | 손실 0.43\n",
            "| 에폭 108 |  반복 1 / 10 | 시간 0[s] | 손실 0.39\n",
            "| 에폭 109 |  반복 1 / 10 | 시간 0[s] | 손실 0.40\n",
            "| 에폭 110 |  반복 1 / 10 | 시간 0[s] | 손실 0.41\n",
            "| 에폭 111 |  반복 1 / 10 | 시간 0[s] | 손실 0.38\n",
            "| 에폭 112 |  반복 1 / 10 | 시간 0[s] | 손실 0.38\n",
            "| 에폭 113 |  반복 1 / 10 | 시간 0[s] | 손실 0.38\n",
            "| 에폭 114 |  반복 1 / 10 | 시간 0[s] | 손실 0.37\n",
            "| 에폭 115 |  반복 1 / 10 | 시간 0[s] | 손실 0.36\n",
            "| 에폭 116 |  반복 1 / 10 | 시간 0[s] | 손실 0.34\n",
            "| 에폭 117 |  반복 1 / 10 | 시간 0[s] | 손실 0.35\n",
            "| 에폭 118 |  반복 1 / 10 | 시간 0[s] | 손실 0.33\n",
            "| 에폭 119 |  반복 1 / 10 | 시간 0[s] | 손실 0.35\n",
            "| 에폭 120 |  반복 1 / 10 | 시간 0[s] | 손실 0.33\n",
            "| 에폭 121 |  반복 1 / 10 | 시간 0[s] | 손실 0.33\n",
            "| 에폭 122 |  반복 1 / 10 | 시간 0[s] | 손실 0.32\n",
            "| 에폭 123 |  반복 1 / 10 | 시간 0[s] | 손실 0.31\n",
            "| 에폭 124 |  반복 1 / 10 | 시간 0[s] | 손실 0.31\n",
            "| 에폭 125 |  반복 1 / 10 | 시간 0[s] | 손실 0.31\n",
            "| 에폭 126 |  반복 1 / 10 | 시간 0[s] | 손실 0.30\n",
            "| 에폭 127 |  반복 1 / 10 | 시간 0[s] | 손실 0.30\n",
            "| 에폭 128 |  반복 1 / 10 | 시간 0[s] | 손실 0.27\n",
            "| 에폭 129 |  반복 1 / 10 | 시간 0[s] | 손실 0.30\n",
            "| 에폭 130 |  반복 1 / 10 | 시간 0[s] | 손실 0.28\n",
            "| 에폭 131 |  반복 1 / 10 | 시간 0[s] | 손실 0.26\n",
            "| 에폭 132 |  반복 1 / 10 | 시간 0[s] | 손실 0.27\n",
            "| 에폭 133 |  반복 1 / 10 | 시간 0[s] | 손실 0.27\n",
            "| 에폭 134 |  반복 1 / 10 | 시간 0[s] | 손실 0.28\n",
            "| 에폭 135 |  반복 1 / 10 | 시간 0[s] | 손실 0.26\n",
            "| 에폭 136 |  반복 1 / 10 | 시간 0[s] | 손실 0.28\n",
            "| 에폭 137 |  반복 1 / 10 | 시간 0[s] | 손실 0.25\n",
            "| 에폭 138 |  반복 1 / 10 | 시간 0[s] | 손실 0.26\n",
            "| 에폭 139 |  반복 1 / 10 | 시간 0[s] | 손실 0.26\n",
            "| 에폭 140 |  반복 1 / 10 | 시간 0[s] | 손실 0.26\n",
            "| 에폭 141 |  반복 1 / 10 | 시간 0[s] | 손실 0.23\n",
            "| 에폭 142 |  반복 1 / 10 | 시간 0[s] | 손실 0.23\n",
            "| 에폭 143 |  반복 1 / 10 | 시간 0[s] | 손실 0.26\n",
            "| 에폭 144 |  반복 1 / 10 | 시간 0[s] | 손실 0.23\n",
            "| 에폭 145 |  반복 1 / 10 | 시간 0[s] | 손실 0.24\n",
            "| 에폭 146 |  반복 1 / 10 | 시간 0[s] | 손실 0.24\n",
            "| 에폭 147 |  반복 1 / 10 | 시간 0[s] | 손실 0.25\n",
            "| 에폭 148 |  반복 1 / 10 | 시간 0[s] | 손실 0.21\n",
            "| 에폭 149 |  반복 1 / 10 | 시간 0[s] | 손실 0.23\n",
            "| 에폭 150 |  반복 1 / 10 | 시간 0[s] | 손실 0.22\n",
            "| 에폭 151 |  반복 1 / 10 | 시간 0[s] | 손실 0.22\n",
            "| 에폭 152 |  반복 1 / 10 | 시간 0[s] | 손실 0.23\n",
            "| 에폭 153 |  반복 1 / 10 | 시간 0[s] | 손실 0.23\n",
            "| 에폭 154 |  반복 1 / 10 | 시간 0[s] | 손실 0.20\n",
            "| 에폭 155 |  반복 1 / 10 | 시간 0[s] | 손실 0.22\n",
            "| 에폭 156 |  반복 1 / 10 | 시간 0[s] | 손실 0.21\n",
            "| 에폭 157 |  반복 1 / 10 | 시간 0[s] | 손실 0.21\n",
            "| 에폭 158 |  반복 1 / 10 | 시간 0[s] | 손실 0.20\n",
            "| 에폭 159 |  반복 1 / 10 | 시간 0[s] | 손실 0.21\n",
            "| 에폭 160 |  반복 1 / 10 | 시간 0[s] | 손실 0.20\n",
            "| 에폭 161 |  반복 1 / 10 | 시간 0[s] | 손실 0.19\n",
            "| 에폭 162 |  반복 1 / 10 | 시간 0[s] | 손실 0.22\n",
            "| 에폭 163 |  반복 1 / 10 | 시간 0[s] | 손실 0.19\n",
            "| 에폭 164 |  반복 1 / 10 | 시간 0[s] | 손실 0.21\n",
            "| 에폭 165 |  반복 1 / 10 | 시간 0[s] | 손실 0.20\n",
            "| 에폭 166 |  반복 1 / 10 | 시간 0[s] | 손실 0.20\n",
            "| 에폭 167 |  반복 1 / 10 | 시간 0[s] | 손실 0.20\n",
            "| 에폭 168 |  반복 1 / 10 | 시간 0[s] | 손실 0.19\n",
            "| 에폭 169 |  반복 1 / 10 | 시간 0[s] | 손실 0.18\n",
            "| 에폭 170 |  반복 1 / 10 | 시간 0[s] | 손실 0.19\n",
            "| 에폭 171 |  반복 1 / 10 | 시간 0[s] | 손실 0.19\n",
            "| 에폭 172 |  반복 1 / 10 | 시간 0[s] | 손실 0.20\n",
            "| 에폭 173 |  반복 1 / 10 | 시간 0[s] | 손실 0.16\n",
            "| 에폭 174 |  반복 1 / 10 | 시간 0[s] | 손실 0.20\n",
            "| 에폭 175 |  반복 1 / 10 | 시간 0[s] | 손실 0.18\n",
            "| 에폭 176 |  반복 1 / 10 | 시간 0[s] | 손실 0.17\n",
            "| 에폭 177 |  반복 1 / 10 | 시간 0[s] | 손실 0.17\n",
            "| 에폭 178 |  반복 1 / 10 | 시간 0[s] | 손실 0.17\n",
            "| 에폭 179 |  반복 1 / 10 | 시간 0[s] | 손실 0.18\n",
            "| 에폭 180 |  반복 1 / 10 | 시간 0[s] | 손실 0.19\n",
            "| 에폭 181 |  반복 1 / 10 | 시간 0[s] | 손실 0.17\n",
            "| 에폭 182 |  반복 1 / 10 | 시간 0[s] | 손실 0.18\n",
            "| 에폭 183 |  반복 1 / 10 | 시간 0[s] | 손실 0.16\n",
            "| 에폭 184 |  반복 1 / 10 | 시간 0[s] | 손실 0.18\n",
            "| 에폭 185 |  반복 1 / 10 | 시간 0[s] | 손실 0.18\n",
            "| 에폭 186 |  반복 1 / 10 | 시간 0[s] | 손실 0.17\n",
            "| 에폭 187 |  반복 1 / 10 | 시간 0[s] | 손실 0.17\n",
            "| 에폭 188 |  반복 1 / 10 | 시간 0[s] | 손실 0.18\n",
            "| 에폭 189 |  반복 1 / 10 | 시간 0[s] | 손실 0.16\n",
            "| 에폭 190 |  반복 1 / 10 | 시간 0[s] | 손실 0.16\n",
            "| 에폭 191 |  반복 1 / 10 | 시간 0[s] | 손실 0.17\n",
            "| 에폭 192 |  반복 1 / 10 | 시간 0[s] | 손실 0.17\n",
            "| 에폭 193 |  반복 1 / 10 | 시간 0[s] | 손실 0.16\n",
            "| 에폭 194 |  반복 1 / 10 | 시간 0[s] | 손실 0.16\n",
            "| 에폭 195 |  반복 1 / 10 | 시간 0[s] | 손실 0.16\n",
            "| 에폭 196 |  반복 1 / 10 | 시간 0[s] | 손실 0.17\n",
            "| 에폭 197 |  반복 1 / 10 | 시간 0[s] | 손실 0.16\n",
            "| 에폭 198 |  반복 1 / 10 | 시간 0[s] | 손실 0.17\n",
            "| 에폭 199 |  반복 1 / 10 | 시간 0[s] | 손실 0.16\n",
            "| 에폭 200 |  반복 1 / 10 | 시간 0[s] | 손실 0.14\n",
            "| 에폭 201 |  반복 1 / 10 | 시간 0[s] | 손실 0.16\n",
            "| 에폭 202 |  반복 1 / 10 | 시간 0[s] | 손실 0.16\n",
            "| 에폭 203 |  반복 1 / 10 | 시간 0[s] | 손실 0.15\n",
            "| 에폭 204 |  반복 1 / 10 | 시간 0[s] | 손실 0.16\n",
            "| 에폭 205 |  반복 1 / 10 | 시간 0[s] | 손실 0.14\n",
            "| 에폭 206 |  반복 1 / 10 | 시간 0[s] | 손실 0.16\n",
            "| 에폭 207 |  반복 1 / 10 | 시간 0[s] | 손실 0.16\n",
            "| 에폭 208 |  반복 1 / 10 | 시간 0[s] | 손실 0.14\n",
            "| 에폭 209 |  반복 1 / 10 | 시간 0[s] | 손실 0.15\n",
            "| 에폭 210 |  반복 1 / 10 | 시간 0[s] | 손실 0.16\n",
            "| 에폭 211 |  반복 1 / 10 | 시간 0[s] | 손실 0.14\n",
            "| 에폭 212 |  반복 1 / 10 | 시간 0[s] | 손실 0.15\n",
            "| 에폭 213 |  반복 1 / 10 | 시간 0[s] | 손실 0.15\n",
            "| 에폭 214 |  반복 1 / 10 | 시간 0[s] | 손실 0.15\n",
            "| 에폭 215 |  반복 1 / 10 | 시간 0[s] | 손실 0.14\n",
            "| 에폭 216 |  반복 1 / 10 | 시간 0[s] | 손실 0.14\n",
            "| 에폭 217 |  반복 1 / 10 | 시간 0[s] | 손실 0.15\n",
            "| 에폭 218 |  반복 1 / 10 | 시간 0[s] | 손실 0.14\n",
            "| 에폭 219 |  반복 1 / 10 | 시간 0[s] | 손실 0.15\n",
            "| 에폭 220 |  반복 1 / 10 | 시간 0[s] | 손실 0.15\n",
            "| 에폭 221 |  반복 1 / 10 | 시간 0[s] | 손실 0.14\n",
            "| 에폭 222 |  반복 1 / 10 | 시간 0[s] | 손실 0.13\n",
            "| 에폭 223 |  반복 1 / 10 | 시간 0[s] | 손실 0.15\n",
            "| 에폭 224 |  반복 1 / 10 | 시간 0[s] | 손실 0.14\n",
            "| 에폭 225 |  반복 1 / 10 | 시간 0[s] | 손실 0.16\n",
            "| 에폭 226 |  반복 1 / 10 | 시간 0[s] | 손실 0.12\n",
            "| 에폭 227 |  반복 1 / 10 | 시간 0[s] | 손실 0.13\n",
            "| 에폭 228 |  반복 1 / 10 | 시간 0[s] | 손실 0.15\n",
            "| 에폭 229 |  반복 1 / 10 | 시간 0[s] | 손실 0.14\n",
            "| 에폭 230 |  반복 1 / 10 | 시간 0[s] | 손실 0.13\n",
            "| 에폭 231 |  반복 1 / 10 | 시간 0[s] | 손실 0.14\n",
            "| 에폭 232 |  반복 1 / 10 | 시간 0[s] | 손실 0.13\n",
            "| 에폭 233 |  반복 1 / 10 | 시간 0[s] | 손실 0.13\n",
            "| 에폭 234 |  반복 1 / 10 | 시간 0[s] | 손실 0.14\n",
            "| 에폭 235 |  반복 1 / 10 | 시간 0[s] | 손실 0.13\n",
            "| 에폭 236 |  반복 1 / 10 | 시간 0[s] | 손실 0.12\n",
            "| 에폭 237 |  반복 1 / 10 | 시간 0[s] | 손실 0.13\n",
            "| 에폭 238 |  반복 1 / 10 | 시간 0[s] | 손실 0.14\n",
            "| 에폭 239 |  반복 1 / 10 | 시간 0[s] | 손실 0.14\n",
            "| 에폭 240 |  반복 1 / 10 | 시간 0[s] | 손실 0.13\n",
            "| 에폭 241 |  반복 1 / 10 | 시간 0[s] | 손실 0.14\n",
            "| 에폭 242 |  반복 1 / 10 | 시간 0[s] | 손실 0.13\n",
            "| 에폭 243 |  반복 1 / 10 | 시간 0[s] | 손실 0.13\n",
            "| 에폭 244 |  반복 1 / 10 | 시간 0[s] | 손실 0.14\n",
            "| 에폭 245 |  반복 1 / 10 | 시간 0[s] | 손실 0.12\n",
            "| 에폭 246 |  반복 1 / 10 | 시간 0[s] | 손실 0.13\n",
            "| 에폭 247 |  반복 1 / 10 | 시간 0[s] | 손실 0.13\n",
            "| 에폭 248 |  반복 1 / 10 | 시간 0[s] | 손실 0.12\n",
            "| 에폭 249 |  반복 1 / 10 | 시간 0[s] | 손실 0.14\n",
            "| 에폭 250 |  반복 1 / 10 | 시간 0[s] | 손실 0.12\n",
            "| 에폭 251 |  반복 1 / 10 | 시간 0[s] | 손실 0.13\n",
            "| 에폭 252 |  반복 1 / 10 | 시간 0[s] | 손실 0.13\n",
            "| 에폭 253 |  반복 1 / 10 | 시간 0[s] | 손실 0.12\n",
            "| 에폭 254 |  반복 1 / 10 | 시간 0[s] | 손실 0.12\n",
            "| 에폭 255 |  반복 1 / 10 | 시간 0[s] | 손실 0.13\n",
            "| 에폭 256 |  반복 1 / 10 | 시간 0[s] | 손실 0.12\n",
            "| 에폭 257 |  반복 1 / 10 | 시간 0[s] | 손실 0.12\n",
            "| 에폭 258 |  반복 1 / 10 | 시간 0[s] | 손실 0.12\n",
            "| 에폭 259 |  반복 1 / 10 | 시간 0[s] | 손실 0.13\n",
            "| 에폭 260 |  반복 1 / 10 | 시간 0[s] | 손실 0.13\n",
            "| 에폭 261 |  반복 1 / 10 | 시간 0[s] | 손실 0.11\n",
            "| 에폭 262 |  반복 1 / 10 | 시간 0[s] | 손실 0.13\n",
            "| 에폭 263 |  반복 1 / 10 | 시간 0[s] | 손실 0.12\n",
            "| 에폭 264 |  반복 1 / 10 | 시간 0[s] | 손실 0.11\n",
            "| 에폭 265 |  반복 1 / 10 | 시간 0[s] | 손실 0.14\n",
            "| 에폭 266 |  반복 1 / 10 | 시간 0[s] | 손실 0.11\n",
            "| 에폭 267 |  반복 1 / 10 | 시간 0[s] | 손실 0.13\n",
            "| 에폭 268 |  반복 1 / 10 | 시간 0[s] | 손실 0.11\n",
            "| 에폭 269 |  반복 1 / 10 | 시간 0[s] | 손실 0.13\n",
            "| 에폭 270 |  반복 1 / 10 | 시간 0[s] | 손실 0.11\n",
            "| 에폭 271 |  반복 1 / 10 | 시간 0[s] | 손실 0.12\n",
            "| 에폭 272 |  반복 1 / 10 | 시간 0[s] | 손실 0.12\n",
            "| 에폭 273 |  반복 1 / 10 | 시간 0[s] | 손실 0.12\n",
            "| 에폭 274 |  반복 1 / 10 | 시간 0[s] | 손실 0.12\n",
            "| 에폭 275 |  반복 1 / 10 | 시간 0[s] | 손실 0.12\n",
            "| 에폭 276 |  반복 1 / 10 | 시간 0[s] | 손실 0.12\n",
            "| 에폭 277 |  반복 1 / 10 | 시간 0[s] | 손실 0.11\n",
            "| 에폭 278 |  반복 1 / 10 | 시간 0[s] | 손실 0.13\n",
            "| 에폭 279 |  반복 1 / 10 | 시간 0[s] | 손실 0.11\n",
            "| 에폭 280 |  반복 1 / 10 | 시간 0[s] | 손실 0.10\n",
            "| 에폭 281 |  반복 1 / 10 | 시간 0[s] | 손실 0.12\n",
            "| 에폭 282 |  반복 1 / 10 | 시간 0[s] | 손실 0.11\n",
            "| 에폭 283 |  반복 1 / 10 | 시간 0[s] | 손실 0.12\n",
            "| 에폭 284 |  반복 1 / 10 | 시간 0[s] | 손실 0.11\n",
            "| 에폭 285 |  반복 1 / 10 | 시간 0[s] | 손실 0.11\n",
            "| 에폭 286 |  반복 1 / 10 | 시간 0[s] | 손실 0.12\n",
            "| 에폭 287 |  반복 1 / 10 | 시간 0[s] | 손실 0.11\n",
            "| 에폭 288 |  반복 1 / 10 | 시간 0[s] | 손실 0.11\n",
            "| 에폭 289 |  반복 1 / 10 | 시간 0[s] | 손실 0.12\n",
            "| 에폭 290 |  반복 1 / 10 | 시간 0[s] | 손실 0.11\n",
            "| 에폭 291 |  반복 1 / 10 | 시간 0[s] | 손실 0.11\n",
            "| 에폭 292 |  반복 1 / 10 | 시간 0[s] | 손실 0.11\n",
            "| 에폭 293 |  반복 1 / 10 | 시간 0[s] | 손실 0.11\n",
            "| 에폭 294 |  반복 1 / 10 | 시간 0[s] | 손실 0.11\n",
            "| 에폭 295 |  반복 1 / 10 | 시간 0[s] | 손실 0.11\n",
            "| 에폭 296 |  반복 1 / 10 | 시간 0[s] | 손실 0.12\n",
            "| 에폭 297 |  반복 1 / 10 | 시간 0[s] | 손실 0.11\n",
            "| 에폭 298 |  반복 1 / 10 | 시간 0[s] | 손실 0.11\n",
            "| 에폭 299 |  반복 1 / 10 | 시간 0[s] | 손실 0.11\n",
            "| 에폭 300 |  반복 1 / 10 | 시간 0[s] | 손실 0.11\n"
          ]
        },
        {
          "output_type": "stream",
          "name": "stderr",
          "text": [
            "/usr/local/lib/python3.8/dist-packages/matplotlib/backends/backend_agg.py:214: RuntimeWarning: Glyph 48152 missing from current font.\n",
            "  font.set_text(s, 0.0, flags=flags)\n",
            "/usr/local/lib/python3.8/dist-packages/matplotlib/backends/backend_agg.py:214: RuntimeWarning: Glyph 48373 missing from current font.\n",
            "  font.set_text(s, 0.0, flags=flags)\n",
            "/usr/local/lib/python3.8/dist-packages/matplotlib/backends/backend_agg.py:214: RuntimeWarning: Glyph 49552 missing from current font.\n",
            "  font.set_text(s, 0.0, flags=flags)\n",
            "/usr/local/lib/python3.8/dist-packages/matplotlib/backends/backend_agg.py:214: RuntimeWarning: Glyph 49892 missing from current font.\n",
            "  font.set_text(s, 0.0, flags=flags)\n",
            "/usr/local/lib/python3.8/dist-packages/matplotlib/backends/backend_agg.py:183: RuntimeWarning: Glyph 48152 missing from current font.\n",
            "  font.set_text(s, 0, flags=flags)\n",
            "/usr/local/lib/python3.8/dist-packages/matplotlib/backends/backend_agg.py:183: RuntimeWarning: Glyph 48373 missing from current font.\n",
            "  font.set_text(s, 0, flags=flags)\n",
            "/usr/local/lib/python3.8/dist-packages/matplotlib/backends/backend_agg.py:183: RuntimeWarning: Glyph 49552 missing from current font.\n",
            "  font.set_text(s, 0, flags=flags)\n",
            "/usr/local/lib/python3.8/dist-packages/matplotlib/backends/backend_agg.py:183: RuntimeWarning: Glyph 49892 missing from current font.\n",
            "  font.set_text(s, 0, flags=flags)\n"
          ]
        },
        {
          "output_type": "display_data",
          "data": {
            "text/plain": [
              "<Figure size 432x288 with 1 Axes>"
            ],
            "image/png": "[encoded data removed]"
          },
          "metadata": {
            "needs_background": "light"
          }
        }
      ]
    },
    {
      "cell_type": "code",
      "source": [
        "import numpy as np\n",
        "\n",
        "a = np.random.randn(3)\n",
        "a.dtype"
      ],
      "metadata": {
        "colab": {
          "base_uri": "https://localhost:8080/"
        },
        "id": "x4YYMYpKWf7X",
        "outputId": "e76dc98c-44d7-4c61-e906-5ec830d82dbe"
      },
      "execution_count": 57,
      "outputs": [
        {
          "output_type": "execute_result",
          "data": {
            "text/plain": [
              "dtype('float64')"
            ]
          },
          "metadata": {},
          "execution_count": 57
        }
      ]
    },
    {
      "cell_type": "code",
      "source": [
        "b = np.random.randn(3).astype(np.float32)"
      ],
      "metadata": {
        "id": "ZmeCMcMXXWBi"
      },
      "execution_count": 58,
      "outputs": []
    },
    {
      "cell_type": "code",
      "source": [
        "b.dtype"
      ],
      "metadata": {
        "colab": {
          "base_uri": "https://localhost:8080/"
        },
        "id": "2yPKWp8zaSbV",
        "outputId": "af8e5696-9c18-4b70-daae-f2db99aefceb"
      },
      "execution_count": 59,
      "outputs": [
        {
          "output_type": "execute_result",
          "data": {
            "text/plain": [
              "dtype('float32')"
            ]
          },
          "metadata": {},
          "execution_count": 59
        }
      ]
    },
    {
      "cell_type": "code",
      "source": [
        "!curl https://colab.chainer.org/install | sh -"
      ],
      "metadata": {
        "colab": {
          "base_uri": "https://localhost:8080/"
        },
        "id": "R7M5WbTxW7LA",
        "outputId": "ba42456c-c08c-4652-9f60-a1754d64526c"
      },
      "execution_count": 60,
      "outputs": [
        {
          "output_type": "stream",
          "name": "stdout",
          "text": [
            "  % Total    % Received % Xferd  Average Speed   Time    Time     Time  Current\n",
            "                                 Dload  Upload   Total   Spent    Left  Speed\n",
            "\r  0     0    0     0    0     0      0      0 --:--:-- --:--:-- --:--:--     0\r100  1553  100  1553    0     0   5860      0 --:--:-- --:--:-- --:--:--  5860\n",
            "********************************************************************************\n",
            "CUDA version could not be detected!\n",
            "Try installing Chainer manually by: pip install chainer\n",
            "********************************************************************************\n"
          ]
        }
      ]
    },
    {
      "cell_type": "code",
      "source": [
        "import cupy as cp"
      ],
      "metadata": {
        "id": "8yvJFpkPXuO5"
      },
      "execution_count": 61,
      "outputs": []
    },
    {
      "cell_type": "code",
      "source": [
        "import torch"
      ],
      "metadata": {
        "id": "BzcVAlMxddw2"
      },
      "execution_count": 63,
      "outputs": []
    },
    {
      "cell_type": "code",
      "source": [
        "torch.cuda.is_available() "
      ],
      "metadata": {
        "colab": {
          "base_uri": "https://localhost:8080/"
        },
        "id": "_CGj1bsEYHTD",
        "outputId": "8dc89035-1ca9-44de-89b7-7cd93c51076b"
      },
      "execution_count": 64,
      "outputs": [
        {
          "output_type": "execute_result",
          "data": {
            "text/plain": [
              "True"
            ]
          },
          "metadata": {},
          "execution_count": 64
        }
      ]
    },
    {
      "cell_type": "code",
      "source": [],
      "metadata": {
        "id": "7sCEH7GTdaq3"
      },
      "execution_count": null,
      "outputs": []
    }
  ]
}