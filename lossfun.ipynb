{
  "nbformat": 4,
  "nbformat_minor": 0,
  "metadata": {
    "colab": {
      "provenance": [],
      "authorship_tag": "ABX9TyNVj/ID2T4a1j2+cubDh5Of",
      "include_colab_link": true
    },
    "kernelspec": {
      "name": "python3",
      "display_name": "Python 3"
    },
    "language_info": {
      "name": "python"
    }
  },
  "cells": [
    {
      "cell_type": "markdown",
      "metadata": {
        "id": "view-in-github",
        "colab_type": "text"
      },
      "source": [
        "<a href=\"https://colab.research.google.com/github/KyunghoonJeon/DeepLearningFromScratch/blob/main/lossfun.ipynb\" target=\"_parent\"><img src=\"https://colab.research.google.com/assets/colab-badge.svg\" alt=\"Open In Colab\"/></a>"
      ]
    },
    {
      "cell_type": "code",
      "execution_count": 3,
      "metadata": {
        "id": "mEW1A192IJeV"
      },
      "outputs": [],
      "source": [
        "import numpy as np\n",
        "\n",
        "def sum_squares_error(y, t):\n",
        "    return 0.5 * np.sum((y-t)**2)"
      ]
    },
    {
      "cell_type": "code",
      "source": [
        "t = [0,0,1,0,0,0,0,0,0,0]\n",
        "y = [0.1,0.05,0.6,0.0,0.05,0.1,0.0,0.1,0.0,0.0]\n",
        "sum_squares_error(np.array(y), np.array(t))"
      ],
      "metadata": {
        "colab": {
          "base_uri": "https://localhost:8080/"
        },
        "id": "fJx0tOBbIUnq",
        "outputId": "550b8927-e1c5-481c-b87b-dfe2e3e9d74f"
      },
      "execution_count": 4,
      "outputs": [
        {
          "output_type": "execute_result",
          "data": {
            "text/plain": [
              "0.09750000000000003"
            ]
          },
          "metadata": {},
          "execution_count": 4
        }
      ]
    },
    {
      "cell_type": "code",
      "source": [
        "t = np.array([0,0,1,0,0,0,0,0,0,0])\n",
        "t.shape\n",
        "t = t.reshape(1, t.size)\n",
        "t"
      ],
      "metadata": {
        "colab": {
          "base_uri": "https://localhost:8080/"
        },
        "id": "BoPOSJhHXj65",
        "outputId": "781f8bd8-ab7e-47ba-b5c6-d9cd5b15c07c"
      },
      "execution_count": 5,
      "outputs": [
        {
          "output_type": "execute_result",
          "data": {
            "text/plain": [
              "array([[0, 0, 1, 0, 0, 0, 0, 0, 0, 0]])"
            ]
          },
          "metadata": {},
          "execution_count": 5
        }
      ]
    },
    {
      "cell_type": "code",
      "source": [
        "def cross_entropy_error(y, t):\n",
        "    delta = 1e-7\n",
        "    return -np.sum(t*np.log(y+delta))"
      ],
      "metadata": {
        "id": "L4WqRUXeIqV5"
      },
      "execution_count": 6,
      "outputs": []
    },
    {
      "cell_type": "code",
      "source": [
        "from google.colab import drive\n",
        "drive.mount('/content/drive')"
      ],
      "metadata": {
        "colab": {
          "base_uri": "https://localhost:8080/"
        },
        "id": "OPbxVDImOfgZ",
        "outputId": "96effcf6-0ae0-4ea6-935d-40825b550252"
      },
      "execution_count": 7,
      "outputs": [
        {
          "output_type": "stream",
          "name": "stdout",
          "text": [
            "Mounted at /content/drive\n"
          ]
        }
      ]
    },
    {
      "cell_type": "code",
      "source": [
        "cd /content/drive/MyDrive/deep-learning-from-scratch"
      ],
      "metadata": {
        "colab": {
          "base_uri": "https://localhost:8080/"
        },
        "id": "uEpZdrQtQdRw",
        "outputId": "1d34c1bb-efa7-4614-d695-c17660f375d2"
      },
      "execution_count": 8,
      "outputs": [
        {
          "output_type": "stream",
          "name": "stdout",
          "text": [
            "/content/drive/MyDrive/deep-learning-from-scratch\n"
          ]
        }
      ]
    },
    {
      "cell_type": "code",
      "source": [
        "from dataset.mnist import load_mnist\n",
        "from common.functions import sigmoid, softmax, cross_entropy_error"
      ],
      "metadata": {
        "id": "755V1dVzQds-"
      },
      "execution_count": 54,
      "outputs": []
    },
    {
      "cell_type": "code",
      "source": [
        "(x_train, t_train), (x_test, t_test) = load_mnist(normalize=True, one_hot_label=True)"
      ],
      "metadata": {
        "id": "WI_Q8GqxQ2mz"
      },
      "execution_count": 10,
      "outputs": []
    },
    {
      "cell_type": "code",
      "source": [
        "print(x_train.shape)\n",
        "print(t_train.shape)"
      ],
      "metadata": {
        "colab": {
          "base_uri": "https://localhost:8080/"
        },
        "id": "zF8zmJ7mQ5Rf",
        "outputId": "e7399b5c-5a7f-4cfa-fe5f-be87d9051528"
      },
      "execution_count": 11,
      "outputs": [
        {
          "output_type": "stream",
          "name": "stdout",
          "text": [
            "(60000, 784)\n",
            "(60000, 10)\n"
          ]
        }
      ]
    },
    {
      "cell_type": "code",
      "source": [
        "t_train[0]"
      ],
      "metadata": {
        "colab": {
          "base_uri": "https://localhost:8080/"
        },
        "id": "Kvh1WOF-Q7bs",
        "outputId": "e8b6a963-9d20-4960-9de7-c1e9b17d933d"
      },
      "execution_count": 12,
      "outputs": [
        {
          "output_type": "execute_result",
          "data": {
            "text/plain": [
              "array([0., 0., 0., 0., 0., 1., 0., 0., 0., 0.])"
            ]
          },
          "metadata": {},
          "execution_count": 12
        }
      ]
    },
    {
      "cell_type": "code",
      "source": [
        "train_size = x_train.shape[0]\n",
        "batch_size = 10\n",
        "batch_mask = np.random.choice(train_size, batch_size)\n",
        "x_batch = x_train[batch_mask]\n",
        "t_batch = t_train[batch_mask]"
      ],
      "metadata": {
        "id": "SUe9zPHcRgDJ"
      },
      "execution_count": 13,
      "outputs": []
    },
    {
      "cell_type": "code",
      "source": [
        "np.random.choice(6000, 10)"
      ],
      "metadata": {
        "colab": {
          "base_uri": "https://localhost:8080/"
        },
        "id": "PzIGtSagSjAo",
        "outputId": "2a1e7b76-5b77-4414-a038-bd6b84096cd8"
      },
      "execution_count": 14,
      "outputs": [
        {
          "output_type": "execute_result",
          "data": {
            "text/plain": [
              "array([4428, 1891,  636, 2564, 1138, 5547,  141,  310, 3237, 4553])"
            ]
          },
          "metadata": {},
          "execution_count": 14
        }
      ]
    },
    {
      "cell_type": "code",
      "source": [
        "def cross_entropy_error(y, t):\n",
        "    if y.ndim == 1:\n",
        "        t = t.reshape(1, t.size)\n",
        "        y = y.reshape(1, y.size)\n",
        "    \n",
        "    batch_size = y.shape[0]\n",
        "    return -np.sum(t*np.lod(y + 1e-7)) / batch_size"
      ],
      "metadata": {
        "id": "FODmglWBSltb"
      },
      "execution_count": 15,
      "outputs": []
    },
    {
      "cell_type": "code",
      "source": [
        "# def cross_entropy_error(y, t):\n",
        "#     if y.ndim == 1:\n",
        "#         t = t.reshape(1, t.size)\n",
        "#         y = y.reshape(1, y.size)\n",
        "    \n",
        "#     batch_size = y.shape[0]\n",
        "#     return -np.sum(np.log(y[np.arange(batch_size),t]+ 1e-7)) / batch_size"
      ],
      "metadata": {
        "id": "g3Aah5uzbgu_"
      },
      "execution_count": 16,
      "outputs": []
    },
    {
      "cell_type": "code",
      "source": [
        "def numerical_diff(f, x):\n",
        "    h = 10e-50\n",
        "    return (f(x+h) - f(x)) / h"
      ],
      "metadata": {
        "id": "00gxDf9UDRpX"
      },
      "execution_count": 17,
      "outputs": []
    },
    {
      "cell_type": "code",
      "source": [
        "np.float32(1e-50)"
      ],
      "metadata": {
        "colab": {
          "base_uri": "https://localhost:8080/"
        },
        "id": "xRFzKL-GDatt",
        "outputId": "1ff40239-300c-4a9f-e58b-b5983b6999aa"
      },
      "execution_count": 18,
      "outputs": [
        {
          "output_type": "execute_result",
          "data": {
            "text/plain": [
              "0.0"
            ]
          },
          "metadata": {},
          "execution_count": 18
        }
      ]
    },
    {
      "cell_type": "code",
      "source": [
        "def numerical_diff(f, x):\n",
        "    h = 1e-4\n",
        "    return (f(x+h) - f(x-h)) / 2*h"
      ],
      "metadata": {
        "id": "2EeyYsPUD23O"
      },
      "execution_count": 20,
      "outputs": []
    },
    {
      "cell_type": "code",
      "source": [
        "def function_1(x):\n",
        "    return x**2"
      ],
      "metadata": {
        "id": "LZHXgcHhI2ex"
      },
      "execution_count": 31,
      "outputs": []
    },
    {
      "cell_type": "code",
      "source": [
        "import matplotlib.pyplot as plt"
      ],
      "metadata": {
        "id": "UewYuJ2FJdyj"
      },
      "execution_count": 22,
      "outputs": []
    },
    {
      "cell_type": "code",
      "source": [
        "x = np.arange(0.0, 20.0, 0.1)\n",
        "y = function_1(x)\n",
        "plt.xlabel('x')\n",
        "plt.ylabel('f(x)')\n",
        "plt.plot(x,y)\n",
        "plt.show()"
      ],
      "metadata": {
        "colab": {
          "base_uri": "https://localhost:8080/",
          "height": 279
        },
        "id": "Gryl5tUqKBco",
        "outputId": "8495f6aa-69c2-4cc9-b0ce-af72d33252ba"
      },
      "execution_count": 32,
      "outputs": [
        {
          "output_type": "display_data",
          "data": {
            "text/plain": [
              "<Figure size 432x288 with 1 Axes>"
            ],
            "image/png": "[encoded data removed]"
          },
          "metadata": {
            "needs_background": "light"
          }
        }
      ]
    },
    {
      "cell_type": "code",
      "source": [
        "numerical_diff(function_1, 5)"
      ],
      "metadata": {
        "colab": {
          "base_uri": "https://localhost:8080/"
        },
        "id": "nR1dBNwiKqDA",
        "outputId": "dec140fd-64f1-4554-8edd-b01cdbb24626"
      },
      "execution_count": 33,
      "outputs": [
        {
          "output_type": "execute_result",
          "data": {
            "text/plain": [
              "9.999999999976694e-08"
            ]
          },
          "metadata": {},
          "execution_count": 33
        }
      ]
    },
    {
      "cell_type": "code",
      "source": [
        "numerical_diff(function_1, 10)"
      ],
      "metadata": {
        "colab": {
          "base_uri": "https://localhost:8080/"
        },
        "id": "WrYZZ6VyNXbW",
        "outputId": "cb017e6e-2d5c-41b5-86a4-8381595bb642"
      },
      "execution_count": 34,
      "outputs": [
        {
          "output_type": "execute_result",
          "data": {
            "text/plain": [
              "1.9999999999953388e-07"
            ]
          },
          "metadata": {},
          "execution_count": 34
        }
      ]
    },
    {
      "cell_type": "code",
      "source": [
        "def function_2(x):\n",
        "    return x[0]**2 + x[1]**2"
      ],
      "metadata": {
        "id": "otiU4DEKO7LA"
      },
      "execution_count": 35,
      "outputs": []
    },
    {
      "cell_type": "code",
      "source": [
        "def numerical_gradient(f, x):\n",
        "    h = 1e-4 # 0.0001\n",
        "    grad = np.zeros_like(x) # x와 형상이 같은 배열을 생성\n",
        "    \n",
        "    for idx in range(x.size):\n",
        "        tmp_val = x[idx]\n",
        "        \n",
        "        # f(x+h) 계산\n",
        "        x[idx] = float(tmp_val) + h\n",
        "        fxh1 = f(x)\n",
        "        \n",
        "        # f(x-h) 계산\n",
        "        x[idx] = tmp_val - h \n",
        "        fxh2 = f(x) \n",
        "        \n",
        "        grad[idx] = (fxh1 - fxh2) / (2*h)\n",
        "        x[idx] = tmp_val # 값 복원\n",
        "        \n",
        "    return grad"
      ],
      "metadata": {
        "id": "EwguW47HUbON"
      },
      "execution_count": 38,
      "outputs": []
    },
    {
      "cell_type": "code",
      "source": [
        "numerical_gradient(function_2, np.array([3.0, 4.0]))"
      ],
      "metadata": {
        "colab": {
          "base_uri": "https://localhost:8080/"
        },
        "id": "h1egPgsyYblH",
        "outputId": "c9f56c83-0c12-4e1d-fcf8-619f49fb2c97"
      },
      "execution_count": 39,
      "outputs": [
        {
          "output_type": "execute_result",
          "data": {
            "text/plain": [
              "array([6., 8.])"
            ]
          },
          "metadata": {},
          "execution_count": 39
        }
      ]
    },
    {
      "cell_type": "code",
      "source": [
        "def tangent_line(f, x):\n",
        "    d = numerical_gradient(f, x)\n",
        "    print(d)\n",
        "    y = f(x) - d*x\n",
        "    return lambda t: d*t + y\n",
        "     \n",
        "if __name__ == '__main__':\n",
        "    x0 = np.arange(-2, 2.5, 0.25)\n",
        "    x1 = np.arange(-2, 2.5, 0.25)\n",
        "    X, Y = np.meshgrid(x0, x1)\n",
        "    \n",
        "    X = X.flatten()\n",
        "    Y = Y.flatten()\n",
        "    \n",
        "    grad = numerical_gradient(function_2, np.array([X, Y]) )\n",
        "    \n",
        "    plt.figure()\n",
        "    plt.quiver(X, Y, -grad[0], -grad[1],  angles=\"xy\",color=\"#666666\")#,headwidth=10,scale=40,color=\"#444444\")\n",
        "    plt.xlim([-2, 2])\n",
        "    plt.ylim([-2, 2])\n",
        "    plt.xlabel('x0')\n",
        "    plt.ylabel('x1')\n",
        "    plt.grid()\n",
        "    plt.legend()\n",
        "    plt.draw()\n",
        "    plt.show()"
      ],
      "metadata": {
        "colab": {
          "base_uri": "https://localhost:8080/",
          "height": 372
        },
        "id": "oLJ8aLMQYhF_",
        "outputId": "e85d6a6d-860d-4f3f-93e0-ccb1a0ab0fd7"
      },
      "execution_count": 40,
      "outputs": [
        {
          "output_type": "error",
          "ename": "TypeError",
          "evalue": "ignored",
          "traceback": [
            "\u001b[0;31m---------------------------------------------------------------------------\u001b[0m",
            "\u001b[0;31mTypeError\u001b[0m                                 Traceback (most recent call last)",
            "\u001b[0;32m<ipython-input-40-ad95ea6f7219>\u001b[0m in \u001b[0;36m<module>\u001b[0;34m\u001b[0m\n\u001b[1;32m     13\u001b[0m     \u001b[0mY\u001b[0m \u001b[0;34m=\u001b[0m \u001b[0mY\u001b[0m\u001b[0;34m.\u001b[0m\u001b[0mflatten\u001b[0m\u001b[0;34m(\u001b[0m\u001b[0;34m)\u001b[0m\u001b[0;34m\u001b[0m\u001b[0;34m\u001b[0m\u001b[0m\n\u001b[1;32m     14\u001b[0m \u001b[0;34m\u001b[0m\u001b[0m\n\u001b[0;32m---> 15\u001b[0;31m     \u001b[0mgrad\u001b[0m \u001b[0;34m=\u001b[0m \u001b[0mnumerical_gradient\u001b[0m\u001b[0;34m(\u001b[0m\u001b[0mfunction_2\u001b[0m\u001b[0;34m,\u001b[0m \u001b[0mnp\u001b[0m\u001b[0;34m.\u001b[0m\u001b[0marray\u001b[0m\u001b[0;34m(\u001b[0m\u001b[0;34m[\u001b[0m\u001b[0mX\u001b[0m\u001b[0;34m,\u001b[0m \u001b[0mY\u001b[0m\u001b[0;34m]\u001b[0m\u001b[0;34m)\u001b[0m \u001b[0;34m)\u001b[0m\u001b[0;34m\u001b[0m\u001b[0;34m\u001b[0m\u001b[0m\n\u001b[0m\u001b[1;32m     16\u001b[0m \u001b[0;34m\u001b[0m\u001b[0m\n\u001b[1;32m     17\u001b[0m     \u001b[0mplt\u001b[0m\u001b[0;34m.\u001b[0m\u001b[0mfigure\u001b[0m\u001b[0;34m(\u001b[0m\u001b[0;34m)\u001b[0m\u001b[0;34m\u001b[0m\u001b[0;34m\u001b[0m\u001b[0m\n",
            "\u001b[0;32m<ipython-input-38-56db97d5f760>\u001b[0m in \u001b[0;36mnumerical_gradient\u001b[0;34m(f, x)\u001b[0m\n\u001b[1;32m      7\u001b[0m \u001b[0;34m\u001b[0m\u001b[0m\n\u001b[1;32m      8\u001b[0m         \u001b[0;31m# f(x+h) 계산\u001b[0m\u001b[0;34m\u001b[0m\u001b[0;34m\u001b[0m\u001b[0;34m\u001b[0m\u001b[0m\n\u001b[0;32m----> 9\u001b[0;31m         \u001b[0mx\u001b[0m\u001b[0;34m[\u001b[0m\u001b[0midx\u001b[0m\u001b[0;34m]\u001b[0m \u001b[0;34m=\u001b[0m \u001b[0mfloat\u001b[0m\u001b[0;34m(\u001b[0m\u001b[0mtmp_val\u001b[0m\u001b[0;34m)\u001b[0m \u001b[0;34m+\u001b[0m \u001b[0mh\u001b[0m\u001b[0;34m\u001b[0m\u001b[0;34m\u001b[0m\u001b[0m\n\u001b[0m\u001b[1;32m     10\u001b[0m         \u001b[0mfxh1\u001b[0m \u001b[0;34m=\u001b[0m \u001b[0mf\u001b[0m\u001b[0;34m(\u001b[0m\u001b[0mx\u001b[0m\u001b[0;34m)\u001b[0m\u001b[0;34m\u001b[0m\u001b[0;34m\u001b[0m\u001b[0m\n\u001b[1;32m     11\u001b[0m \u001b[0;34m\u001b[0m\u001b[0m\n",
            "\u001b[0;31mTypeError\u001b[0m: only size-1 arrays can be converted to Python scalars"
          ]
        }
      ]
    },
    {
      "cell_type": "code",
      "source": [
        "import numpy as np\n",
        "import matplotlib.pylab as plt\n",
        "from mpl_toolkits.mplot3d import Axes3D\n",
        "\n",
        "\n",
        "def _numerical_gradient_no_batch(f, x):\n",
        "    h = 1e-4 # 0.0001\n",
        "    grad = np.zeros_like(x) # x와 형상이 같은 배열을 생성\n",
        "    \n",
        "    for idx in range(x.size):\n",
        "        tmp_val = x[idx]\n",
        "        \n",
        "        # f(x+h) 계산\n",
        "        x[idx] = float(tmp_val) + h\n",
        "        fxh1 = f(x)\n",
        "        \n",
        "        # f(x-h) 계산\n",
        "        x[idx] = tmp_val - h \n",
        "        fxh2 = f(x) \n",
        "        \n",
        "        grad[idx] = (fxh1 - fxh2) / (2*h)\n",
        "        x[idx] = tmp_val # 값 복원\n",
        "        \n",
        "    return grad\n",
        "\n",
        "\n",
        "def numerical_gradient(f, X):\n",
        "    if X.ndim == 1:\n",
        "        return _numerical_gradient_no_batch(f, X)\n",
        "    else:\n",
        "        grad = np.zeros_like(X)\n",
        "        \n",
        "        for idx, x in enumerate(X):\n",
        "            grad[idx] = _numerical_gradient_no_batch(f, x)\n",
        "        \n",
        "        return grad\n",
        "\n",
        "\n",
        "def function_2(x):\n",
        "    if x.ndim == 1:\n",
        "        return np.sum(x**2)\n",
        "    else:\n",
        "        return np.sum(x**2, axis=1)\n",
        "\n",
        "\n",
        "def tangent_line(f, x):\n",
        "    d = numerical_gradient(f, x)\n",
        "    print(d)\n",
        "    y = f(x) - d*x\n",
        "    return lambda t: d*t + y\n",
        "     \n",
        "if __name__ == '__main__':\n",
        "    x0 = np.arange(-2, 2.5, 0.25)\n",
        "    x1 = np.arange(-2, 2.5, 0.25)\n",
        "    X, Y = np.meshgrid(x0, x1)\n",
        "    \n",
        "    X = X.flatten()\n",
        "    Y = Y.flatten()\n",
        "    \n",
        "    grad = numerical_gradient(function_2, np.array([X, Y]) )\n",
        "    \n",
        "    plt.figure()\n",
        "    plt.quiver(X, Y, -grad[0], -grad[1],  angles=\"xy\",color=\"#666666\")#,headwidth=10,scale=40,color=\"#444444\")\n",
        "    plt.xlim([-2, 2])\n",
        "    plt.ylim([-2, 2])\n",
        "    plt.xlabel('x0')\n",
        "    plt.ylabel('x1')\n",
        "    plt.grid()\n",
        "    plt.legend()\n",
        "    plt.draw()\n",
        "    plt.show()"
      ],
      "metadata": {
        "colab": {
          "base_uri": "https://localhost:8080/",
          "height": 301
        },
        "id": "WDwr-KKEaNEw",
        "outputId": "af84c17e-e47c-4df4-dc47-d5fab9fe4883"
      },
      "execution_count": 41,
      "outputs": [
        {
          "output_type": "stream",
          "name": "stderr",
          "text": [
            "WARNING:matplotlib.legend:No handles with labels found to put in legend.\n"
          ]
        },
        {
          "output_type": "display_data",
          "data": {
            "text/plain": [
              "<Figure size 432x288 with 1 Axes>"
            ],
            "image/png": "[encoded data removed]"
          },
          "metadata": {
            "needs_background": "light"
          }
        }
      ]
    },
    {
      "cell_type": "code",
      "source": [
        "def gradient_descent(f, init_x, lr=0.01, step_num=100):\n",
        "    x = init_x\n",
        "\n",
        "    for i in range(step_num):\n",
        "        grad = numerical_gradient(f, x)\n",
        "        x -= lr*grad\n",
        "    return x"
      ],
      "metadata": {
        "id": "r8qDr4CklNcE"
      },
      "execution_count": 42,
      "outputs": []
    },
    {
      "cell_type": "code",
      "source": [
        "def function_2(x):\n",
        "    return x[0]**2 + x[1]**2"
      ],
      "metadata": {
        "id": "Hq8nMSAylZ0-"
      },
      "execution_count": 43,
      "outputs": []
    },
    {
      "cell_type": "code",
      "source": [
        "init_x = np.array([-3.0, 4.0])"
      ],
      "metadata": {
        "id": "7kuORij9maRR"
      },
      "execution_count": 44,
      "outputs": []
    },
    {
      "cell_type": "code",
      "source": [
        "gradient_descent(function_2, init_x=init_x, lr=0.1, step_num=100)"
      ],
      "metadata": {
        "colab": {
          "base_uri": "https://localhost:8080/"
        },
        "id": "e4ibr-sGmdYx",
        "outputId": "8b2a20ef-e3e5-49aa-c7c5-58f3c7e704e7"
      },
      "execution_count": 45,
      "outputs": [
        {
          "output_type": "execute_result",
          "data": {
            "text/plain": [
              "array([-6.11110793e-10,  8.14814391e-10])"
            ]
          },
          "metadata": {},
          "execution_count": 45
        }
      ]
    },
    {
      "cell_type": "code",
      "source": [
        "def gradient_descent(f, init_x, lr=0.01, step_num=100):\n",
        "    x = init_x\n",
        "    x_history = []\n",
        "\n",
        "    for i in range(step_num):\n",
        "        x_history.append( x.copy() )\n",
        "\n",
        "        grad = numerical_gradient(f, x)\n",
        "        x -= lr * grad\n",
        "\n",
        "    return x, np.array(x_history)\n",
        "\n",
        "\n",
        "def function_2(x):\n",
        "    return x[0]**2 + x[1]**2\n",
        "\n",
        "init_x = np.array([-3.0, 4.0])    \n",
        "\n",
        "lr = 0.1\n",
        "step_num = 20\n",
        "x, x_history = gradient_descent(function_2, init_x, lr=lr, step_num=step_num)\n",
        "\n",
        "plt.plot( [-5, 5], [0,0], '--b')\n",
        "plt.plot( [0,0], [-5, 5], '--b')\n",
        "plt.plot(x_history[:,0], x_history[:,1], 'o')\n",
        "\n",
        "plt.xlim(-3.5, 3.5)\n",
        "plt.ylim(-4.5, 4.5)\n",
        "plt.xlabel(\"X0\")\n",
        "plt.ylabel(\"X1\")\n",
        "plt.show()"
      ],
      "metadata": {
        "colab": {
          "base_uri": "https://localhost:8080/",
          "height": 279
        },
        "id": "CSRqyz5fmiai",
        "outputId": "4716f96c-bd5a-467e-a91f-1368c83d0b72"
      },
      "execution_count": 47,
      "outputs": [
        {
          "output_type": "display_data",
          "data": {
            "text/plain": [
              "<Figure size 432x288 with 1 Axes>"
            ],
            "image/png": "[encoded data removed]"
          },
          "metadata": {
            "needs_background": "light"
          }
        }
      ]
    },
    {
      "cell_type": "code",
      "source": [
        "init_x = np.array([-3.0, 4.0])"
      ],
      "metadata": {
        "id": "0b9kklcqoS6b"
      },
      "execution_count": 51,
      "outputs": []
    },
    {
      "cell_type": "code",
      "source": [
        "gradient_descent(function_2, init_x=init_x, lr=10.0, step_num=100)"
      ],
      "metadata": {
        "colab": {
          "base_uri": "https://localhost:8080/"
        },
        "id": "kJuCWLKyoS-L",
        "outputId": "6c24d05a-19ca-4682-d891-6164384b1eb8"
      },
      "execution_count": 49,
      "outputs": [
        {
          "output_type": "execute_result",
          "data": {
            "text/plain": [
              "(array([-2.58983747e+13, -1.29524862e+12]),\n",
              " array([[-3.00000000e+00,  4.00000000e+00],\n",
              "        [ 5.70000000e+01, -7.60000000e+01],\n",
              "        [-1.08300000e+03,  1.44400000e+03],\n",
              "        [ 2.05770000e+04, -2.74360000e+04],\n",
              "        [-3.90963008e+05,  5.21284002e+05],\n",
              "        [ 7.42829664e+06, -9.90439654e+06],\n",
              "        [-1.41137328e+08,  1.88183103e+08],\n",
              "        [ 2.68126267e+09, -3.57501690e+09],\n",
              "        [-5.09763373e+10,  6.79001831e+10],\n",
              "        [ 9.45170863e+11, -1.29524862e+12],\n",
              "        [-2.58983747e+13, -1.29524862e+12],\n",
              "        [-2.58983747e+13, -1.29524862e+12],\n",
              "        [-2.58983747e+13, -1.29524862e+12],\n",
              "        [-2.58983747e+13, -1.29524862e+12],\n",
              "        [-2.58983747e+13, -1.29524862e+12],\n",
              "        [-2.58983747e+13, -1.29524862e+12],\n",
              "        [-2.58983747e+13, -1.29524862e+12],\n",
              "        [-2.58983747e+13, -1.29524862e+12],\n",
              "        [-2.58983747e+13, -1.29524862e+12],\n",
              "        [-2.58983747e+13, -1.29524862e+12],\n",
              "        [-2.58983747e+13, -1.29524862e+12],\n",
              "        [-2.58983747e+13, -1.29524862e+12],\n",
              "        [-2.58983747e+13, -1.29524862e+12],\n",
              "        [-2.58983747e+13, -1.29524862e+12],\n",
              "        [-2.58983747e+13, -1.29524862e+12],\n",
              "        [-2.58983747e+13, -1.29524862e+12],\n",
              "        [-2.58983747e+13, -1.29524862e+12],\n",
              "        [-2.58983747e+13, -1.29524862e+12],\n",
              "        [-2.58983747e+13, -1.29524862e+12],\n",
              "        [-2.58983747e+13, -1.29524862e+12],\n",
              "        [-2.58983747e+13, -1.29524862e+12],\n",
              "        [-2.58983747e+13, -1.29524862e+12],\n",
              "        [-2.58983747e+13, -1.29524862e+12],\n",
              "        [-2.58983747e+13, -1.29524862e+12],\n",
              "        [-2.58983747e+13, -1.29524862e+12],\n",
              "        [-2.58983747e+13, -1.29524862e+12],\n",
              "        [-2.58983747e+13, -1.29524862e+12],\n",
              "        [-2.58983747e+13, -1.29524862e+12],\n",
              "        [-2.58983747e+13, -1.29524862e+12],\n",
              "        [-2.58983747e+13, -1.29524862e+12],\n",
              "        [-2.58983747e+13, -1.29524862e+12],\n",
              "        [-2.58983747e+13, -1.29524862e+12],\n",
              "        [-2.58983747e+13, -1.29524862e+12],\n",
              "        [-2.58983747e+13, -1.29524862e+12],\n",
              "        [-2.58983747e+13, -1.29524862e+12],\n",
              "        [-2.58983747e+13, -1.29524862e+12],\n",
              "        [-2.58983747e+13, -1.29524862e+12],\n",
              "        [-2.58983747e+13, -1.29524862e+12],\n",
              "        [-2.58983747e+13, -1.29524862e+12],\n",
              "        [-2.58983747e+13, -1.29524862e+12],\n",
              "        [-2.58983747e+13, -1.29524862e+12],\n",
              "        [-2.58983747e+13, -1.29524862e+12],\n",
              "        [-2.58983747e+13, -1.29524862e+12],\n",
              "        [-2.58983747e+13, -1.29524862e+12],\n",
              "        [-2.58983747e+13, -1.29524862e+12],\n",
              "        [-2.58983747e+13, -1.29524862e+12],\n",
              "        [-2.58983747e+13, -1.29524862e+12],\n",
              "        [-2.58983747e+13, -1.29524862e+12],\n",
              "        [-2.58983747e+13, -1.29524862e+12],\n",
              "        [-2.58983747e+13, -1.29524862e+12],\n",
              "        [-2.58983747e+13, -1.29524862e+12],\n",
              "        [-2.58983747e+13, -1.29524862e+12],\n",
              "        [-2.58983747e+13, -1.29524862e+12],\n",
              "        [-2.58983747e+13, -1.29524862e+12],\n",
              "        [-2.58983747e+13, -1.29524862e+12],\n",
              "        [-2.58983747e+13, -1.29524862e+12],\n",
              "        [-2.58983747e+13, -1.29524862e+12],\n",
              "        [-2.58983747e+13, -1.29524862e+12],\n",
              "        [-2.58983747e+13, -1.29524862e+12],\n",
              "        [-2.58983747e+13, -1.29524862e+12],\n",
              "        [-2.58983747e+13, -1.29524862e+12],\n",
              "        [-2.58983747e+13, -1.29524862e+12],\n",
              "        [-2.58983747e+13, -1.29524862e+12],\n",
              "        [-2.58983747e+13, -1.29524862e+12],\n",
              "        [-2.58983747e+13, -1.29524862e+12],\n",
              "        [-2.58983747e+13, -1.29524862e+12],\n",
              "        [-2.58983747e+13, -1.29524862e+12],\n",
              "        [-2.58983747e+13, -1.29524862e+12],\n",
              "        [-2.58983747e+13, -1.29524862e+12],\n",
              "        [-2.58983747e+13, -1.29524862e+12],\n",
              "        [-2.58983747e+13, -1.29524862e+12],\n",
              "        [-2.58983747e+13, -1.29524862e+12],\n",
              "        [-2.58983747e+13, -1.29524862e+12],\n",
              "        [-2.58983747e+13, -1.29524862e+12],\n",
              "        [-2.58983747e+13, -1.29524862e+12],\n",
              "        [-2.58983747e+13, -1.29524862e+12],\n",
              "        [-2.58983747e+13, -1.29524862e+12],\n",
              "        [-2.58983747e+13, -1.29524862e+12],\n",
              "        [-2.58983747e+13, -1.29524862e+12],\n",
              "        [-2.58983747e+13, -1.29524862e+12],\n",
              "        [-2.58983747e+13, -1.29524862e+12],\n",
              "        [-2.58983747e+13, -1.29524862e+12],\n",
              "        [-2.58983747e+13, -1.29524862e+12],\n",
              "        [-2.58983747e+13, -1.29524862e+12],\n",
              "        [-2.58983747e+13, -1.29524862e+12],\n",
              "        [-2.58983747e+13, -1.29524862e+12],\n",
              "        [-2.58983747e+13, -1.29524862e+12],\n",
              "        [-2.58983747e+13, -1.29524862e+12],\n",
              "        [-2.58983747e+13, -1.29524862e+12],\n",
              "        [-2.58983747e+13, -1.29524862e+12]]))"
            ]
          },
          "metadata": {},
          "execution_count": 49
        }
      ]
    },
    {
      "cell_type": "code",
      "source": [
        "gradient_descent(function_2, init_x=init_x, lr=1e-10, step_num=100)"
      ],
      "metadata": {
        "colab": {
          "base_uri": "https://localhost:8080/"
        },
        "id": "BfS-_GhbobLW",
        "outputId": "ade14e5c-09c2-48b0-b34f-8cb23653ef9c"
      },
      "execution_count": 52,
      "outputs": [
        {
          "output_type": "execute_result",
          "data": {
            "text/plain": [
              "(array([-2.99999994,  3.99999992]), array([[-3.        ,  4.        ],\n",
              "        [-3.        ,  4.        ],\n",
              "        [-3.        ,  4.        ],\n",
              "        [-3.        ,  4.        ],\n",
              "        [-3.        ,  4.        ],\n",
              "        [-3.        ,  4.        ],\n",
              "        [-3.        ,  4.        ],\n",
              "        [-3.        ,  3.99999999],\n",
              "        [-3.        ,  3.99999999],\n",
              "        [-2.99999999,  3.99999999],\n",
              "        [-2.99999999,  3.99999999],\n",
              "        [-2.99999999,  3.99999999],\n",
              "        [-2.99999999,  3.99999999],\n",
              "        [-2.99999999,  3.99999999],\n",
              "        [-2.99999999,  3.99999999],\n",
              "        [-2.99999999,  3.99999999],\n",
              "        [-2.99999999,  3.99999999],\n",
              "        [-2.99999999,  3.99999999],\n",
              "        [-2.99999999,  3.99999999],\n",
              "        [-2.99999999,  3.99999998],\n",
              "        [-2.99999999,  3.99999998],\n",
              "        [-2.99999999,  3.99999998],\n",
              "        [-2.99999999,  3.99999998],\n",
              "        [-2.99999999,  3.99999998],\n",
              "        [-2.99999999,  3.99999998],\n",
              "        [-2.99999998,  3.99999998],\n",
              "        [-2.99999998,  3.99999998],\n",
              "        [-2.99999998,  3.99999998],\n",
              "        [-2.99999998,  3.99999998],\n",
              "        [-2.99999998,  3.99999998],\n",
              "        [-2.99999998,  3.99999998],\n",
              "        [-2.99999998,  3.99999998],\n",
              "        [-2.99999998,  3.99999997],\n",
              "        [-2.99999998,  3.99999997],\n",
              "        [-2.99999998,  3.99999997],\n",
              "        [-2.99999998,  3.99999997],\n",
              "        [-2.99999998,  3.99999997],\n",
              "        [-2.99999998,  3.99999997],\n",
              "        [-2.99999998,  3.99999997],\n",
              "        [-2.99999998,  3.99999997],\n",
              "        [-2.99999998,  3.99999997],\n",
              "        [-2.99999998,  3.99999997],\n",
              "        [-2.99999997,  3.99999997],\n",
              "        [-2.99999997,  3.99999997],\n",
              "        [-2.99999997,  3.99999996],\n",
              "        [-2.99999997,  3.99999996],\n",
              "        [-2.99999997,  3.99999996],\n",
              "        [-2.99999997,  3.99999996],\n",
              "        [-2.99999997,  3.99999996],\n",
              "        [-2.99999997,  3.99999996],\n",
              "        [-2.99999997,  3.99999996],\n",
              "        [-2.99999997,  3.99999996],\n",
              "        [-2.99999997,  3.99999996],\n",
              "        [-2.99999997,  3.99999996],\n",
              "        [-2.99999997,  3.99999996],\n",
              "        [-2.99999997,  3.99999996],\n",
              "        [-2.99999997,  3.99999996],\n",
              "        [-2.99999997,  3.99999995],\n",
              "        [-2.99999997,  3.99999995],\n",
              "        [-2.99999996,  3.99999995],\n",
              "        [-2.99999996,  3.99999995],\n",
              "        [-2.99999996,  3.99999995],\n",
              "        [-2.99999996,  3.99999995],\n",
              "        [-2.99999996,  3.99999995],\n",
              "        [-2.99999996,  3.99999995],\n",
              "        [-2.99999996,  3.99999995],\n",
              "        [-2.99999996,  3.99999995],\n",
              "        [-2.99999996,  3.99999995],\n",
              "        [-2.99999996,  3.99999995],\n",
              "        [-2.99999996,  3.99999994],\n",
              "        [-2.99999996,  3.99999994],\n",
              "        [-2.99999996,  3.99999994],\n",
              "        [-2.99999996,  3.99999994],\n",
              "        [-2.99999996,  3.99999994],\n",
              "        [-2.99999996,  3.99999994],\n",
              "        [-2.99999995,  3.99999994],\n",
              "        [-2.99999995,  3.99999994],\n",
              "        [-2.99999995,  3.99999994],\n",
              "        [-2.99999995,  3.99999994],\n",
              "        [-2.99999995,  3.99999994],\n",
              "        [-2.99999995,  3.99999994],\n",
              "        [-2.99999995,  3.99999994],\n",
              "        [-2.99999995,  3.99999993],\n",
              "        [-2.99999995,  3.99999993],\n",
              "        [-2.99999995,  3.99999993],\n",
              "        [-2.99999995,  3.99999993],\n",
              "        [-2.99999995,  3.99999993],\n",
              "        [-2.99999995,  3.99999993],\n",
              "        [-2.99999995,  3.99999993],\n",
              "        [-2.99999995,  3.99999993],\n",
              "        [-2.99999995,  3.99999993],\n",
              "        [-2.99999995,  3.99999993],\n",
              "        [-2.99999994,  3.99999993],\n",
              "        [-2.99999994,  3.99999993],\n",
              "        [-2.99999994,  3.99999992],\n",
              "        [-2.99999994,  3.99999992],\n",
              "        [-2.99999994,  3.99999992],\n",
              "        [-2.99999994,  3.99999992],\n",
              "        [-2.99999994,  3.99999992],\n",
              "        [-2.99999994,  3.99999992]]))"
            ]
          },
          "metadata": {},
          "execution_count": 52
        }
      ]
    },
    {
      "cell_type": "code",
      "source": [
        "class simpleNet:\n",
        "    def __init__(self):\n",
        "        self.W = np.random.randn(2,3) # 정규분포로 초기화\n",
        "\n",
        "    def predict(self, x):\n",
        "        return np.dot(x, self.W)\n",
        "\n",
        "    def loss(self, x, t):\n",
        "        z = self.predict(x)\n",
        "        y = softmax(z)\n",
        "        loss = cross_entropy_error(y, t)\n",
        "\n",
        "        return loss"
      ],
      "metadata": {
        "id": "NWlJxbmXohV6"
      },
      "execution_count": 56,
      "outputs": []
    },
    {
      "cell_type": "code",
      "source": [
        "net = simpleNet()"
      ],
      "metadata": {
        "id": "lnudOM33q0a8"
      },
      "execution_count": 61,
      "outputs": []
    },
    {
      "cell_type": "code",
      "source": [
        "print(net.W)"
      ],
      "metadata": {
        "colab": {
          "base_uri": "https://localhost:8080/"
        },
        "id": "omx8z9DUq94M",
        "outputId": "3c408f63-1cc0-4c25-90a1-ea182f0241c2"
      },
      "execution_count": 62,
      "outputs": [
        {
          "output_type": "stream",
          "name": "stdout",
          "text": [
            "[[ 1.00407829 -1.40308429 -0.45356314]\n",
            " [ 0.35344239 -0.23397923  0.48987346]]\n"
          ]
        }
      ]
    },
    {
      "cell_type": "code",
      "source": [
        "x = np.array([0.6, 0.9])\n",
        "p = net.predict(x)"
      ],
      "metadata": {
        "id": "GoQ33MRrq_ma"
      },
      "execution_count": 63,
      "outputs": []
    },
    {
      "cell_type": "code",
      "source": [
        "print(p)"
      ],
      "metadata": {
        "colab": {
          "base_uri": "https://localhost:8080/"
        },
        "id": "3Yv2c6FTrdZI",
        "outputId": "e6eab055-405a-4990-e833-ec870e5a12e4"
      },
      "execution_count": 64,
      "outputs": [
        {
          "output_type": "stream",
          "name": "stdout",
          "text": [
            "[ 0.92054513 -1.05243188  0.16874823]\n"
          ]
        }
      ]
    },
    {
      "cell_type": "code",
      "source": [
        "np.argmax(p)"
      ],
      "metadata": {
        "colab": {
          "base_uri": "https://localhost:8080/"
        },
        "id": "P-hHOvswrez8",
        "outputId": "ec9b2997-bfa5-4da0-93b6-5cbfcac2961e"
      },
      "execution_count": 65,
      "outputs": [
        {
          "output_type": "execute_result",
          "data": {
            "text/plain": [
              "0"
            ]
          },
          "metadata": {},
          "execution_count": 65
        }
      ]
    },
    {
      "cell_type": "code",
      "source": [
        "t = np.array([1,0,0])\n",
        "net.loss(x, t)"
      ],
      "metadata": {
        "colab": {
          "base_uri": "https://localhost:8080/"
        },
        "id": "ifR-o7SUrhbZ",
        "outputId": "5c7ae29a-c559-4c64-e5bc-7c31c62c291b"
      },
      "execution_count": 66,
      "outputs": [
        {
          "output_type": "execute_result",
          "data": {
            "text/plain": [
              "0.476582298748867"
            ]
          },
          "metadata": {},
          "execution_count": 66
        }
      ]
    },
    {
      "cell_type": "code",
      "source": [
        "def f(W):\n",
        "    return net.loss(x, t)"
      ],
      "metadata": {
        "id": "GPE9z7dHrnkb"
      },
      "execution_count": 67,
      "outputs": []
    },
    {
      "cell_type": "code",
      "source": [
        "dW = numerical_gradient(f, net.W)"
      ],
      "metadata": {
        "id": "7QLg7YgMr1gu"
      },
      "execution_count": 68,
      "outputs": []
    },
    {
      "cell_type": "code",
      "source": [
        "print(dW)"
      ],
      "metadata": {
        "colab": {
          "base_uri": "https://localhost:8080/"
        },
        "id": "8ODRT1fDsAFX",
        "outputId": "f3d12afc-e4d5-445f-8080-d60a137e5185"
      },
      "execution_count": 69,
      "outputs": [
        {
          "output_type": "stream",
          "name": "stdout",
          "text": [
            "[[-0.22745893  0.05179896  0.17565997]\n",
            " [-0.34118839  0.07769844  0.26348996]]\n"
          ]
        }
      ]
    },
    {
      "cell_type": "code",
      "source": [],
      "metadata": {
        "id": "tXl09TaBsCp7"
      },
      "execution_count": null,
      "outputs": []
    }
  ]
}